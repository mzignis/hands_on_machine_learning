{
  "nbformat": 4,
  "nbformat_minor": 0,
  "metadata": {
    "colab": {
      "name": "building_complex_model.ipynb",
      "provenance": [],
      "mount_file_id": "1dTBXLNjJ25HAPa3oeMWgFRR2AVYskEKq",
      "authorship_tag": "ABX9TyPzFSETCuoaQ7NZL2OU2dYd"
    },
    "kernelspec": {
      "name": "python3",
      "display_name": "Python 3"
    },
    "accelerator": "GPU"
  },
  "cells": [
    {
      "cell_type": "code",
      "metadata": {
        "id": "463uVvrhNfkJ",
        "colab_type": "code",
        "colab": {
          "base_uri": "https://localhost:8080/",
          "height": 51
        },
        "outputId": "4e1f755b-af88-4e2a-c102-b7475a37880f"
      },
      "source": [
        "import os\n",
        "\n",
        "import matplotlib.pyplot as plt\n",
        "import numpy as np\n",
        "import pandas as pd\n",
        "import seaborn as sns\n",
        "\n",
        "from PIL import Image\n",
        "\n",
        "from sklearn.datasets import fetch_california_housing\n",
        "from sklearn.model_selection import train_test_split\n",
        "from sklearn.preprocessing import StandardScaler\n",
        "\n",
        "import tensorflow as tf\n",
        "from tensorflow import keras\n",
        "\n",
        "sns.set()"
      ],
      "execution_count": 1,
      "outputs": [
        {
          "output_type": "stream",
          "text": [
            "/usr/local/lib/python3.6/dist-packages/statsmodels/tools/_testing.py:19: FutureWarning: pandas.util.testing is deprecated. Use the functions in the public API at pandas.testing instead.\n",
            "  import pandas.util.testing as tm\n"
          ],
          "name": "stderr"
        }
      ]
    },
    {
      "cell_type": "code",
      "metadata": {
        "id": "H-gpvhUjVGTf",
        "colab_type": "code",
        "colab": {
          "base_uri": "https://localhost:8080/",
          "height": 34
        },
        "outputId": "d4b582c7-9927-4bb3-e96d-3f1cf3c205a3"
      },
      "source": [
        "HOME = '/content/drive/My Drive/Colab Notebooks/hands_on_machine_learning/hands_on_machine_learning'\n",
        "CWD = os.path.join(HOME, 'artificial_neural_networks/introduction_to_ann_with_keras')\n",
        "\n",
        "%cd $CWD"
      ],
      "execution_count": 2,
      "outputs": [
        {
          "output_type": "stream",
          "text": [
            "/content/drive/My Drive/Colab Notebooks/hands_on_machine_learning/hands_on_machine_learning/artificial_neural_networks/introduction_to_ann_with_keras\n"
          ],
          "name": "stdout"
        }
      ]
    },
    {
      "cell_type": "markdown",
      "metadata": {
        "id": "NzDYyNOYOktt",
        "colab_type": "text"
      },
      "source": [
        "## *Wide and Deep* Architecture"
      ]
    },
    {
      "cell_type": "code",
      "metadata": {
        "id": "Au6W_rv2OHkg",
        "colab_type": "code",
        "colab": {
          "base_uri": "https://localhost:8080/",
          "height": 282
        },
        "outputId": "ddd28603-b061-4bf6-9f07-a954bb95fdff"
      },
      "source": [
        "wide_and_deep_img = Image.open('img/wide_and_deep.png')\n",
        "plt.figure(figsize=(5, 5))\n",
        "plt.imshow(wide_and_deep_img)\n",
        "plt.grid(False)\n",
        "plt.axis('off');"
      ],
      "execution_count": 3,
      "outputs": [
        {
          "output_type": "display_data",
          "data": {
            "image/png": "[encoded data removed]",
            "text/plain": [
              "<Figure size 360x360 with 1 Axes>"
            ]
          },
          "metadata": {
            "tags": []
          }
        }
      ]
    },
    {
      "cell_type": "code",
      "metadata": {
        "id": "D7aCG6CkV1C-",
        "colab_type": "code",
        "colab": {}
      },
      "source": [
        "housing = fetch_california_housing()\n",
        "\n",
        "X_train_full, X_test, y_train_full, y_test = train_test_split(housing.data, housing.target, random_state=42)\n",
        "X_train, X_val, y_train, y_val = train_test_split(X_train_full, y_train_full, random_state=42)\n",
        "\n",
        "scaler = StandardScaler()\n",
        "X_train = scaler.fit_transform(X_train)\n",
        "X_val = scaler.transform(X_val)\n",
        "X_test = scaler.transform(X_test)"
      ],
      "execution_count": 0,
      "outputs": []
    },
    {
      "cell_type": "code",
      "metadata": {
        "id": "iD8mq7jl2o67",
        "colab_type": "code",
        "colab": {}
      },
      "source": [
        "np.random.seed(42)\n",
        "tf.random.set_seed(42)"
      ],
      "execution_count": 0,
      "outputs": []
    },
    {
      "cell_type": "code",
      "metadata": {
        "id": "SBuNwZYKWtFQ",
        "colab_type": "code",
        "colab": {}
      },
      "source": [
        "# building ANN model in W&D architecture\n",
        "\n",
        "\n",
        "# -------- input layer --------\n",
        "input_layer = keras.Input(shape=X_train.shape[1:])\n",
        "\n",
        "# -------- deep layers --------\n",
        "hidden_0 = keras.layers.Dense(30, activation='relu')(input_layer)\n",
        "hidden_1 = keras.layers.Dense(30, activation='relu')(hidden_0)\n",
        "\n",
        "# -------- concatination layer --------\n",
        "concat = keras.layers.Concatenate()([input_layer, hidden_1])\n",
        "\n",
        "# -------- output layer --------\n",
        "output_layer = keras.layers.Dense(1)(concat)\n",
        "\n",
        "# -------- model building --------\n",
        "model = keras.models.Model(inputs=[input_layer], outputs=[output_layer])"
      ],
      "execution_count": 0,
      "outputs": []
    },
    {
      "cell_type": "code",
      "metadata": {
        "id": "Q56a_d1xXDRX",
        "colab_type": "code",
        "colab": {
          "base_uri": "https://localhost:8080/",
          "height": 272
        },
        "outputId": "569e6f99-8616-4da4-cafd-51539f65fd04"
      },
      "source": [
        "model.compile(loss=\"mse\", optimizer=keras.optimizers.SGD(lr=1e-3))\n",
        "model.fit(X_train, y_train, validation_data=(X_val, y_val), epochs=5)\n",
        "loss = model.evaluate(X_test, y_test)\n",
        "\n",
        "print()\n",
        "\n",
        "print(' STATS '.center(32, '='))\n",
        "print(f'loss: {loss}')\n",
        "print(''.center(32, '='))"
      ],
      "execution_count": 7,
      "outputs": [
        {
          "output_type": "stream",
          "text": [
            "Epoch 1/5\n",
            "363/363 [==============================] - 1s 4ms/step - loss: 1.2608 - val_loss: 3.3923\n",
            "Epoch 2/5\n",
            "363/363 [==============================] - 1s 3ms/step - loss: 0.6580 - val_loss: 0.9356\n",
            "Epoch 3/5\n",
            "363/363 [==============================] - 1s 3ms/step - loss: 0.5878 - val_loss: 0.5647\n",
            "Epoch 4/5\n",
            "363/363 [==============================] - 1s 3ms/step - loss: 0.5585 - val_loss: 0.5710\n",
            "Epoch 5/5\n",
            "363/363 [==============================] - 1s 3ms/step - loss: 0.5349 - val_loss: 0.5043\n",
            "162/162 [==============================] - 0s 2ms/step - loss: 0.5216\n",
            "\n",
            "============ STATS =============\n",
            "loss: 0.5215688347816467\n",
            "================================\n"
          ],
          "name": "stdout"
        }
      ]
    },
    {
      "cell_type": "markdown",
      "metadata": {
        "id": "QkafIH3oovbF",
        "colab_type": "text"
      },
      "source": [
        "### Dividing input into two subsets"
      ]
    },
    {
      "cell_type": "code",
      "metadata": {
        "id": "Q6YtGDnHpNwm",
        "colab_type": "code",
        "colab": {
          "base_uri": "https://localhost:8080/",
          "height": 277
        },
        "outputId": "42a6a17d-e92d-4ecf-c995-b4ac90e57207"
      },
      "source": [
        "input_subsets_img = Image.open('img/input_subsets.png')\n",
        "plt.figure(figsize=(5, 5))\n",
        "plt.imshow(input_subsets_img)\n",
        "plt.grid(False)\n",
        "plt.axis('off');"
      ],
      "execution_count": 8,
      "outputs": [
        {
          "output_type": "display_data",
          "data": {
            "image/png": "[encoded data removed]",
            "text/plain": [
              "<Figure size 360x360 with 1 Axes>"
            ]
          },
          "metadata": {
            "tags": []
          }
        }
      ]
    },
    {
      "cell_type": "code",
      "metadata": {
        "id": "vHYiD-Ljasrf",
        "colab_type": "code",
        "colab": {}
      },
      "source": [
        "# -------- input layer --------\n",
        "input_layer_A = keras.Input(shape=[5])\n",
        "input_layer_B = keras.Input(shape=[6])\n",
        "\n",
        "# -------- deep layers --------\n",
        "hidden_0 = keras.layers.Dense(30, activation='relu')(input_layer_B)\n",
        "hidden_1 = keras.layers.Dense(30, activation='relu')(hidden_0)\n",
        "\n",
        "# -------- concatination layer --------\n",
        "concat = keras.layers.concatenate([input_layer_A, hidden_1])\n",
        "\n",
        "# -------- output layer --------\n",
        "output_layer = keras.layers.Dense(1, name=\"output\")(concat)\n",
        "\n",
        "# -------- model building --------\n",
        "model = keras.models.Model(inputs=[input_layer_A, input_layer_B], outputs=[output_layer])"
      ],
      "execution_count": 0,
      "outputs": []
    },
    {
      "cell_type": "code",
      "metadata": {
        "id": "52pNOjPcztXZ",
        "colab_type": "code",
        "colab": {}
      },
      "source": [
        "np.random.seed(42)\n",
        "tf.random.set_seed(42)"
      ],
      "execution_count": 0,
      "outputs": []
    },
    {
      "cell_type": "code",
      "metadata": {
        "id": "93HDS_aC0Y9I",
        "colab_type": "code",
        "colab": {}
      },
      "source": [
        "input_A = keras.layers.Input(shape=[5], name=\"wide_input\")\n",
        "input_B = keras.layers.Input(shape=[6], name=\"deep_input\")\n",
        "hidden1 = keras.layers.Dense(30, activation=\"relu\")(input_B)\n",
        "hidden2 = keras.layers.Dense(30, activation=\"relu\")(hidden1)\n",
        "concat = keras.layers.concatenate([input_A, hidden2])\n",
        "output = keras.layers.Dense(1, name=\"output\")(concat)\n",
        "model = keras.models.Model(inputs=[input_A, input_B], outputs=[output])"
      ],
      "execution_count": 0,
      "outputs": []
    },
    {
      "cell_type": "code",
      "metadata": {
        "id": "4aan6dufpXxk",
        "colab_type": "code",
        "colab": {
          "base_uri": "https://localhost:8080/",
          "height": 714
        },
        "outputId": "210ddcc5-50f6-4561-8ea7-112fee958b44"
      },
      "source": [
        "model.compile(loss=\"mse\", optimizer=keras.optimizers.SGD(lr=1e-3))\n",
        "\n",
        "X_train_A, X_train_B = X_train[:, :5], X_train[:, 2:]\n",
        "X_val_A, X_val_B = X_val[:, :5], X_val[:, 2:]\n",
        "X_test_A, X_test_B = X_test[:, :5], X_test[:, 2:]\n",
        "X_new_A, X_new_B = X_test_A[:3], X_test_B[:3]\n",
        "y_new = y_test[:3]\n",
        "\n",
        "history = model.fit((X_train_A, X_train_B), y_train, epochs=20,\n",
        "                    validation_data=((X_val_A, X_val_B), y_val))\n",
        "mse_test = model.evaluate((X_test_A, X_test_B), y_test)\n",
        "y_pred = model.predict((X_new_A, X_new_B))"
      ],
      "execution_count": 15,
      "outputs": [
        {
          "output_type": "stream",
          "text": [
            "Epoch 1/20\n",
            "363/363 [==============================] - 1s 3ms/step - loss: 0.4236 - val_loss: 0.3885\n",
            "Epoch 2/20\n",
            "363/363 [==============================] - 1s 3ms/step - loss: 0.4218 - val_loss: 0.4123\n",
            "Epoch 3/20\n",
            "363/363 [==============================] - 1s 3ms/step - loss: 0.4206 - val_loss: 0.3921\n",
            "Epoch 4/20\n",
            "363/363 [==============================] - 1s 3ms/step - loss: 0.4173 - val_loss: 0.3970\n",
            "Epoch 5/20\n",
            "363/363 [==============================] - 1s 3ms/step - loss: 0.4170 - val_loss: 0.3819\n",
            "Epoch 6/20\n",
            "363/363 [==============================] - 1s 3ms/step - loss: 0.4136 - val_loss: 0.3992\n",
            "Epoch 7/20\n",
            "363/363 [==============================] - 1s 3ms/step - loss: 0.4133 - val_loss: 0.3810\n",
            "Epoch 8/20\n",
            "363/363 [==============================] - 1s 3ms/step - loss: 0.4114 - val_loss: 0.3858\n",
            "Epoch 9/20\n",
            "363/363 [==============================] - 1s 3ms/step - loss: 0.4089 - val_loss: 0.3938\n",
            "Epoch 10/20\n",
            "363/363 [==============================] - 1s 3ms/step - loss: 0.4082 - val_loss: 0.3791\n",
            "Epoch 11/20\n",
            "363/363 [==============================] - 1s 3ms/step - loss: 0.4066 - val_loss: 0.3832\n",
            "Epoch 12/20\n",
            "363/363 [==============================] - 1s 3ms/step - loss: 0.4052 - val_loss: 0.3952\n",
            "Epoch 13/20\n",
            "363/363 [==============================] - 1s 3ms/step - loss: 0.4044 - val_loss: 0.3717\n",
            "Epoch 14/20\n",
            "363/363 [==============================] - 1s 3ms/step - loss: 0.4028 - val_loss: 0.3729\n",
            "Epoch 15/20\n",
            "363/363 [==============================] - 1s 3ms/step - loss: 0.4016 - val_loss: 0.3701\n",
            "Epoch 16/20\n",
            "363/363 [==============================] - 1s 3ms/step - loss: 0.4004 - val_loss: 0.3731\n",
            "Epoch 17/20\n",
            "363/363 [==============================] - 1s 3ms/step - loss: 0.3993 - val_loss: 0.3721\n",
            "Epoch 18/20\n",
            "363/363 [==============================] - 1s 3ms/step - loss: 0.3987 - val_loss: 0.3662\n",
            "Epoch 19/20\n",
            "363/363 [==============================] - 1s 3ms/step - loss: 0.3970 - val_loss: 0.3654\n",
            "Epoch 20/20\n",
            "363/363 [==============================] - 1s 3ms/step - loss: 0.3966 - val_loss: 0.3897\n",
            "162/162 [==============================] - 0s 2ms/step - loss: 0.3918\n"
          ],
          "name": "stdout"
        }
      ]
    },
    {
      "cell_type": "markdown",
      "metadata": {
        "id": "Y_CT1fcM4_73",
        "colab_type": "text"
      },
      "source": [
        "#### Creating auxiliary output"
      ]
    },
    {
      "cell_type": "code",
      "metadata": {
        "id": "A9oAwm9K4OWD",
        "colab_type": "code",
        "colab": {
          "base_uri": "https://localhost:8080/",
          "height": 212
        },
        "outputId": "a65ae714-85d3-42d4-cc13-0bb0cc414d18"
      },
      "source": [
        "auxiliary_output_img = Image.open('img/auxiliary_output.png')\n",
        "plt.figure(figsize=(5, 5))\n",
        "plt.imshow(auxiliary_output_img)\n",
        "plt.grid(False)\n",
        "plt.axis('off');"
      ],
      "execution_count": 17,
      "outputs": [
        {
          "output_type": "display_data",
          "data": {
            "image/png": "[encoded data removed]",
            "text/plain": [
              "<Figure size 360x360 with 1 Axes>"
            ]
          },
          "metadata": {
            "tags": []
          }
        }
      ]
    },
    {
      "cell_type": "code",
      "metadata": {
        "id": "M_sZpepy6xhf",
        "colab_type": "code",
        "colab": {}
      },
      "source": [
        "np.random.seed(42)\n",
        "tf.random.set_seed(42)"
      ],
      "execution_count": 0,
      "outputs": []
    },
    {
      "cell_type": "code",
      "metadata": {
        "id": "VG2iUnYw5nuZ",
        "colab_type": "code",
        "colab": {}
      },
      "source": [
        "# -------- input layer --------\n",
        "input_layer_A = keras.Input(shape=[5])\n",
        "input_layer_B = keras.Input(shape=[6])\n",
        "\n",
        "# -------- deep layers --------\n",
        "hidden_0 = keras.layers.Dense(30, activation='relu')(input_layer_B)\n",
        "hidden_1 = keras.layers.Dense(30, activation='relu')(hidden_0)\n",
        "\n",
        "# -------- concatination layer --------\n",
        "concat = keras.layers.concatenate([input_layer_A, hidden_1])\n",
        "\n",
        "# -------- output layer --------\n",
        "output_layer = keras.layers.Dense(1, name=\"output\")(concat)\n",
        "auxiliary_output = keras.layers.Dense(1)(hidden_1)\n",
        "\n",
        "# -------- model building --------\n",
        "model = keras.models.Model(inputs=[input_layer_A, input_layer_B], outputs=[output_layer, auxiliary_output])"
      ],
      "execution_count": 0,
      "outputs": []
    },
    {
      "cell_type": "code",
      "metadata": {
        "id": "H4x_BWRb56lL",
        "colab_type": "code",
        "colab": {
          "base_uri": "https://localhost:8080/",
          "height": 714
        },
        "outputId": "2abfeece-276c-4c70-daca-4c50e04682b2"
      },
      "source": [
        "model.compile(optimizer='sgd', loss=['mse', 'mse'], loss_weights=[0.9, 0.1])\n",
        "model.fit([X_train_A, X_train_B], [y_train, y_train], epochs=20, validation_data=([X_val_A, X_val_B], [y_val, y_val]))"
      ],
      "execution_count": 23,
      "outputs": [
        {
          "output_type": "stream",
          "text": [
            "Epoch 1/20\n",
            "363/363 [==============================] - 2s 5ms/step - loss: 0.8602 - output_loss: 0.7458 - dense_12_loss: 1.8896 - val_loss: 5.9673 - val_output_loss: 6.3359 - val_dense_12_loss: 2.6497\n",
            "Epoch 2/20\n",
            "363/363 [==============================] - 2s 5ms/step - loss: 0.5735 - output_loss: 0.5210 - dense_12_loss: 1.0468 - val_loss: 1.4686 - val_output_loss: 1.3948 - val_dense_12_loss: 2.1335\n",
            "Epoch 3/20\n",
            "363/363 [==============================] - 2s 5ms/step - loss: 0.5078 - output_loss: 0.4649 - dense_12_loss: 0.8936 - val_loss: 1.8642 - val_output_loss: 1.9598 - val_dense_12_loss: 1.0037\n",
            "Epoch 4/20\n",
            "363/363 [==============================] - 2s 5ms/step - loss: 0.4621 - output_loss: 0.4277 - dense_12_loss: 0.7714 - val_loss: 0.4491 - val_output_loss: 0.4083 - val_dense_12_loss: 0.8161\n",
            "Epoch 5/20\n",
            "363/363 [==============================] - 2s 5ms/step - loss: 0.4418 - output_loss: 0.4131 - dense_12_loss: 0.6998 - val_loss: 0.4052 - val_output_loss: 0.3769 - val_dense_12_loss: 0.6595\n",
            "Epoch 6/20\n",
            "363/363 [==============================] - 2s 5ms/step - loss: 0.4255 - output_loss: 0.4003 - dense_12_loss: 0.6521 - val_loss: 0.4128 - val_output_loss: 0.3881 - val_dense_12_loss: 0.6354\n",
            "Epoch 7/20\n",
            "363/363 [==============================] - 2s 5ms/step - loss: 0.4280 - output_loss: 0.4065 - dense_12_loss: 0.6216 - val_loss: 0.4000 - val_output_loss: 0.3798 - val_dense_12_loss: 0.5826\n",
            "Epoch 8/20\n",
            "363/363 [==============================] - 2s 5ms/step - loss: 0.4103 - output_loss: 0.3898 - dense_12_loss: 0.5953 - val_loss: 0.3865 - val_output_loss: 0.3666 - val_dense_12_loss: 0.5658\n",
            "Epoch 9/20\n",
            "363/363 [==============================] - 2s 5ms/step - loss: 0.4025 - output_loss: 0.3831 - dense_12_loss: 0.5775 - val_loss: 0.3857 - val_output_loss: 0.3655 - val_dense_12_loss: 0.5674\n",
            "Epoch 10/20\n",
            "363/363 [==============================] - 2s 5ms/step - loss: 0.3988 - output_loss: 0.3801 - dense_12_loss: 0.5663 - val_loss: 0.3727 - val_output_loss: 0.3523 - val_dense_12_loss: 0.5555\n",
            "Epoch 11/20\n",
            "363/363 [==============================] - 2s 5ms/step - loss: 0.4000 - output_loss: 0.3828 - dense_12_loss: 0.5543 - val_loss: 0.3655 - val_output_loss: 0.3453 - val_dense_12_loss: 0.5474\n",
            "Epoch 12/20\n",
            "363/363 [==============================] - 2s 5ms/step - loss: 0.3942 - output_loss: 0.3774 - dense_12_loss: 0.5459 - val_loss: 0.3642 - val_output_loss: 0.3423 - val_dense_12_loss: 0.5609\n",
            "Epoch 13/20\n",
            "363/363 [==============================] - 2s 5ms/step - loss: 0.3972 - output_loss: 0.3814 - dense_12_loss: 0.5393 - val_loss: 0.3562 - val_output_loss: 0.3361 - val_dense_12_loss: 0.5369\n",
            "Epoch 14/20\n",
            "363/363 [==============================] - 2s 5ms/step - loss: 0.3838 - output_loss: 0.3675 - dense_12_loss: 0.5311 - val_loss: 0.3554 - val_output_loss: 0.3358 - val_dense_12_loss: 0.5317\n",
            "Epoch 15/20\n",
            "363/363 [==============================] - 2s 5ms/step - loss: 0.3848 - output_loss: 0.3697 - dense_12_loss: 0.5212 - val_loss: 0.3612 - val_output_loss: 0.3444 - val_dense_12_loss: 0.5118\n",
            "Epoch 16/20\n",
            "363/363 [==============================] - 2s 5ms/step - loss: 0.3785 - output_loss: 0.3630 - dense_12_loss: 0.5175 - val_loss: 0.3530 - val_output_loss: 0.3351 - val_dense_12_loss: 0.5146\n",
            "Epoch 17/20\n",
            "363/363 [==============================] - 2s 5ms/step - loss: 0.3778 - output_loss: 0.3630 - dense_12_loss: 0.5115 - val_loss: 0.3593 - val_output_loss: 0.3365 - val_dense_12_loss: 0.5642\n",
            "Epoch 18/20\n",
            "363/363 [==============================] - 2s 5ms/step - loss: 0.3718 - output_loss: 0.3571 - dense_12_loss: 0.5042 - val_loss: 0.3478 - val_output_loss: 0.3311 - val_dense_12_loss: 0.4985\n",
            "Epoch 19/20\n",
            "363/363 [==============================] - 2s 5ms/step - loss: 0.3911 - output_loss: 0.3783 - dense_12_loss: 0.5064 - val_loss: 0.3481 - val_output_loss: 0.3302 - val_dense_12_loss: 0.5092\n",
            "Epoch 20/20\n",
            "363/363 [==============================] - 2s 5ms/step - loss: 0.3702 - output_loss: 0.3562 - dense_12_loss: 0.4966 - val_loss: 0.3423 - val_output_loss: 0.3247 - val_dense_12_loss: 0.5007\n"
          ],
          "name": "stdout"
        },
        {
          "output_type": "execute_result",
          "data": {
            "text/plain": [
              "<tensorflow.python.keras.callbacks.History at 0x7fceb5fe1cc0>"
            ]
          },
          "metadata": {
            "tags": []
          },
          "execution_count": 23
        }
      ]
    },
    {
      "cell_type": "code",
      "metadata": {
        "id": "4uYNj5046aGN",
        "colab_type": "code",
        "colab": {
          "base_uri": "https://localhost:8080/",
          "height": 136
        },
        "outputId": "a169a9c6-a0e8-4386-9364-7a57286230b5"
      },
      "source": [
        "total_loss, main_loss, aux_loss = model.evaluate([X_test_A, X_test_B], [y_test, y_test])\n",
        "print()\n",
        "\n",
        "print(' STATS '.center(21, '='))\n",
        "print(f'total loss:\\t{total_loss:.3f}')\n",
        "print(f'main loss:\\t{main_loss:.3f}')\n",
        "print(f'aux loss:\\t{aux_loss:.3f}')\n",
        "print(''.center(21, '='))"
      ],
      "execution_count": 28,
      "outputs": [
        {
          "output_type": "stream",
          "text": [
            "162/162 [==============================] - 0s 3ms/step - loss: 0.3606 - output_loss: 0.3477 - dense_12_loss: 0.4762\n",
            "\n",
            "======= STATS =======\n",
            "total loss:\t0.361\n",
            "main loss:\t0.348\n",
            "aux loss:\t0.476\n",
            "=====================\n"
          ],
          "name": "stdout"
        }
      ]
    },
    {
      "cell_type": "code",
      "metadata": {
        "id": "kUKt-NsU7p8y",
        "colab_type": "code",
        "colab": {}
      },
      "source": [
        "y_pred_main, y_pred_aux = model.predict([X_new_A, X_new_B])"
      ],
      "execution_count": 0,
      "outputs": []
    },
    {
      "cell_type": "code",
      "metadata": {
        "id": "B3rEsivw8J0D",
        "colab_type": "code",
        "colab": {
          "base_uri": "https://localhost:8080/",
          "height": 68
        },
        "outputId": "4ac6417c-909e-459d-f094-8b032bbf0cdc"
      },
      "source": [
        "y_pred_main"
      ],
      "execution_count": 30,
      "outputs": [
        {
          "output_type": "execute_result",
          "data": {
            "text/plain": [
              "array([[0.3618695],\n",
              "       [1.5316448],\n",
              "       [3.5083222]], dtype=float32)"
            ]
          },
          "metadata": {
            "tags": []
          },
          "execution_count": 30
        }
      ]
    },
    {
      "cell_type": "code",
      "metadata": {
        "id": "MaALVUTt8LP6",
        "colab_type": "code",
        "colab": {
          "base_uri": "https://localhost:8080/",
          "height": 68
        },
        "outputId": "73962964-4a0a-4ada-9548-609ade979cee"
      },
      "source": [
        "y_pred_aux"
      ],
      "execution_count": 31,
      "outputs": [
        {
          "output_type": "execute_result",
          "data": {
            "text/plain": [
              "array([[0.7439421],\n",
              "       [1.7789698],\n",
              "       [3.0890322]], dtype=float32)"
            ]
          },
          "metadata": {
            "tags": []
          },
          "execution_count": 31
        }
      ]
    },
    {
      "cell_type": "code",
      "metadata": {
        "id": "1APpOf6j8Mj6",
        "colab_type": "code",
        "colab": {}
      },
      "source": [
        ""
      ],
      "execution_count": 0,
      "outputs": []
    }
  ]
}