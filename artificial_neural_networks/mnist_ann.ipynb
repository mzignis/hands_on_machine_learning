{
  "nbformat": 4,
  "nbformat_minor": 0,
  "metadata": {
    "colab": {
      "name": "mnist_ann.ipynb",
      "provenance": [],
      "authorship_tag": "ABX9TyNQDAPRBcmvdjcpnuIplq1Y",
      "include_colab_link": true
    },
    "kernelspec": {
      "name": "python3",
      "display_name": "Python 3"
    },
    "accelerator": "GPU"
  },
  "cells": [
    {
      "cell_type": "markdown",
      "metadata": {
        "id": "view-in-github",
        "colab_type": "text"
      },
      "source": [
        "<a href=\"https://colab.research.google.com/github/mzignis/hands_on_machine_learning/blob/master/artificial_neural_networks/mnist_ann.ipynb\" target=\"_parent\"><img src=\"https://colab.research.google.com/assets/colab-badge.svg\" alt=\"Open In Colab\"/></a>"
      ]
    },
    {
      "cell_type": "code",
      "metadata": {
        "id": "kgTU8ui_k2cu",
        "colab_type": "code",
        "colab": {
          "base_uri": "https://localhost:8080/",
          "height": 71
        },
        "outputId": "5f582f85-077b-42bd-9cd5-d1356d94ae78"
      },
      "source": [
        "import matplotlib.pyplot as plt\n",
        "import matplotlib.patches as plt_patches\n",
        "import numpy as np\n",
        "import pandas as pd\n",
        "import seaborn as sns\n",
        "\n",
        "from sklearn.datasets import fetch_openml\n",
        "from sklearn.model_selection import train_test_split\n",
        "\n",
        "import tensorflow as tf\n",
        "from tensorflow import keras\n",
        "\n",
        "sns.set()"
      ],
      "execution_count": 1,
      "outputs": [
        {
          "output_type": "stream",
          "text": [
            "/usr/local/lib/python3.6/dist-packages/statsmodels/tools/_testing.py:19: FutureWarning: pandas.util.testing is deprecated. Use the functions in the public API at pandas.testing instead.\n",
            "  import pandas.util.testing as tm\n"
          ],
          "name": "stderr"
        }
      ]
    },
    {
      "cell_type": "code",
      "metadata": {
        "id": "8gs3FpTelqN_",
        "colab_type": "code",
        "colab": {}
      },
      "source": [
        "mnist = fetch_openml('mnist_784', version=1)"
      ],
      "execution_count": 0,
      "outputs": []
    },
    {
      "cell_type": "code",
      "metadata": {
        "id": "uFY3fDEel59O",
        "colab_type": "code",
        "colab": {}
      },
      "source": [
        "X = mnist.data\n",
        "y = mnist.target.astype(np.int)"
      ],
      "execution_count": 0,
      "outputs": []
    },
    {
      "cell_type": "code",
      "metadata": {
        "id": "emtVYL5xmdTR",
        "colab_type": "code",
        "colab": {}
      },
      "source": [
        "X_train_full, X_test, y_train_full, y_test = train_test_split(X, y)\n",
        "X_train, X_val, y_train, y_val = train_test_split(X_train_full, y_train_full)"
      ],
      "execution_count": 0,
      "outputs": []
    },
    {
      "cell_type": "code",
      "metadata": {
        "id": "QZ9P0UNNn7Ow",
        "colab_type": "code",
        "colab": {
          "base_uri": "https://localhost:8080/",
          "height": 34
        },
        "outputId": "8f780bde-05aa-4246-d617-958e584291e5"
      },
      "source": [
        "input_shape = X_train.shape[1]\n",
        "X_train.shape, y_train.shape"
      ],
      "execution_count": 5,
      "outputs": [
        {
          "output_type": "execute_result",
          "data": {
            "text/plain": [
              "((39375, 784), (39375,))"
            ]
          },
          "metadata": {
            "tags": []
          },
          "execution_count": 5
        }
      ]
    },
    {
      "cell_type": "code",
      "metadata": {
        "id": "BcGQlZH3olyv",
        "colab_type": "code",
        "colab": {}
      },
      "source": [
        "def create_model(params: dict):\n",
        "    model = keras.models.Sequential()\n",
        "\n",
        "    # -------- input layer --------\n",
        "    model.add(keras.Input(shape=X_train.shape[1:]))\n",
        "\n",
        "    # -------- deep layers --------\n",
        "    layers_number = params.get('deep_layers_no', 1)\n",
        "    neurons_number = params.get('neurons_number', 200)\n",
        "    for layer_no in range(layers_number):\n",
        "        model.add(keras.layers.Dense(neurons_number, activation='relu'))\n",
        "\n",
        "    # -------- output layer --------\n",
        "    model.add(keras.layers.Dense(10, activation='softmax'))\n",
        "\n",
        "    learning_rate = params.get('learning_rate', 1e-3)\n",
        "    model.compile(loss=\"sparse_categorical_crossentropy\", \n",
        "                  optimizer=keras.optimizers.SGD(lr=learning_rate), \n",
        "                  metrics=[\"accuracy\"])\n",
        "    \n",
        "    return model"
      ],
      "execution_count": 0,
      "outputs": []
    },
    {
      "cell_type": "code",
      "metadata": {
        "id": "9SFcT1KQonT8",
        "colab_type": "code",
        "colab": {}
      },
      "source": [
        "def fit_model(model, X_train, y_train, params: dict):\n",
        "    history = model.fit(X_train, y_train, \n",
        "                        batch_size=params.get('batch_size', 32),\n",
        "                        epochs=params.get('epochs', 5),\n",
        "                        verbose=params.get('verbose', 1),\n",
        "                        validation_data=params.get('validation_data', (X_train, y_train)),\n",
        "                        callbacks=params.get('callbacks', []))\n",
        "    return history"
      ],
      "execution_count": 0,
      "outputs": []
    },
    {
      "cell_type": "code",
      "metadata": {
        "id": "LOzeSwjyulqX",
        "colab_type": "code",
        "colab": {}
      },
      "source": [
        "def fit_and_evaluate(X, y, model_params: dict = None, fit_params: dict = None):\n",
        "    X_train_full, X_test, y_train_full, y_test = train_test_split(X, y)\n",
        "    X_train, X_val, y_train, y_val = train_test_split(X_train_full, y_train_full)\n",
        "\n",
        "    model_params = dict() if model_params is None else model_params\n",
        "    fit_params = dict() if fit_params is None else fit_params\n",
        "    fit_params.update({'validation_data': (X_val, y_val)})\n",
        "\n",
        "    print(' creating model '.center(32, '-'))\n",
        "    model = create_model(model_params)\n",
        "    model.summary()\n",
        "    print('\\n\\n')\n",
        "\n",
        "    print(' training model '.center(32, '-'))\n",
        "    history = fit_model(model, X_train, y_train, fit_params)\n",
        "    print('\\n\\n')\n",
        "\n",
        "    print(' evaluating model'.center(32, '-'))\n",
        "    score = model.evaluate(X_test, y_test)\n",
        "    print(score)\n",
        "\n",
        "    return model, history"
      ],
      "execution_count": 0,
      "outputs": []
    },
    {
      "cell_type": "code",
      "metadata": {
        "id": "8ADh-LDpO6qs",
        "colab_type": "code",
        "colab": {
          "base_uri": "https://localhost:8080/",
          "height": 1000
        },
        "outputId": "f9e0e883-037b-41f1-cc00-48b8226e987e"
      },
      "source": [
        "model, history = fit_and_evaluate(X, y, \n",
        "                                  model_params={'deep_layers_no': 3, \n",
        "                                                'neurons_number': 200,\n",
        "                                                'learning_rate': 1e-4},\n",
        "                                  fit_params={'batch_size': 32, \n",
        "                                              'epochs': 150})\n",
        "\n",
        "pd.DataFrame(history.history).plot(figsize=(8, 5))\n",
        "plt.grid(True)\n",
        "plt.gca().set_ylim(0, 1) # set the vertical range to [0-1]\n",
        "plt.show()"
      ],
      "execution_count": 9,
      "outputs": [
        {
          "output_type": "stream",
          "text": [
            "-------- creating model --------\n",
            "Model: \"sequential\"\n",
            "_________________________________________________________________\n",
            "Layer (type)                 Output Shape              Param #   \n",
            "=================================================================\n",
            "dense (Dense)                (None, 200)               157000    \n",
            "_________________________________________________________________\n",
            "dense_1 (Dense)              (None, 200)               40200     \n",
            "_________________________________________________________________\n",
            "dense_2 (Dense)              (None, 200)               40200     \n",
            "_________________________________________________________________\n",
            "dense_3 (Dense)              (None, 10)                2010      \n",
            "=================================================================\n",
            "Total params: 239,410\n",
            "Trainable params: 239,410\n",
            "Non-trainable params: 0\n",
            "_________________________________________________________________\n",
            "\n",
            "\n",
            "\n",
            "-------- training model --------\n",
            "Epoch 1/150\n",
            "1231/1231 [==============================] - 4s 3ms/step - loss: 3.3617 - accuracy: 0.7863 - val_loss: 1.6428 - val_accuracy: 0.8503\n",
            "Epoch 2/150\n",
            "1231/1231 [==============================] - 4s 3ms/step - loss: 1.1643 - accuracy: 0.8795 - val_loss: 1.1533 - val_accuracy: 0.8768\n",
            "Epoch 3/150\n",
            "1231/1231 [==============================] - 4s 3ms/step - loss: 0.7923 - accuracy: 0.9026 - val_loss: 0.9833 - val_accuracy: 0.8878\n",
            "Epoch 4/150\n",
            "1231/1231 [==============================] - 4s 3ms/step - loss: 0.6054 - accuracy: 0.9155 - val_loss: 0.8596 - val_accuracy: 0.8939\n",
            "Epoch 5/150\n",
            "1231/1231 [==============================] - 4s 3ms/step - loss: 0.4819 - accuracy: 0.9277 - val_loss: 0.8002 - val_accuracy: 0.8979\n",
            "Epoch 6/150\n",
            "1231/1231 [==============================] - 4s 3ms/step - loss: 0.3959 - accuracy: 0.9353 - val_loss: 0.7717 - val_accuracy: 0.8980\n",
            "Epoch 7/150\n",
            "1231/1231 [==============================] - 4s 3ms/step - loss: 0.3349 - accuracy: 0.9414 - val_loss: 0.7053 - val_accuracy: 0.9081\n",
            "Epoch 8/150\n",
            "1231/1231 [==============================] - 4s 3ms/step - loss: 0.2829 - accuracy: 0.9481 - val_loss: 0.6854 - val_accuracy: 0.9115\n",
            "Epoch 9/150\n",
            "1231/1231 [==============================] - 4s 3ms/step - loss: 0.2471 - accuracy: 0.9525 - val_loss: 0.6765 - val_accuracy: 0.9112\n",
            "Epoch 10/150\n",
            "1231/1231 [==============================] - 4s 3ms/step - loss: 0.2138 - accuracy: 0.9568 - val_loss: 0.6767 - val_accuracy: 0.9094\n",
            "Epoch 11/150\n",
            "1231/1231 [==============================] - 4s 3ms/step - loss: 0.1885 - accuracy: 0.9608 - val_loss: 0.6345 - val_accuracy: 0.9149\n",
            "Epoch 12/150\n",
            "1231/1231 [==============================] - 4s 3ms/step - loss: 0.1655 - accuracy: 0.9652 - val_loss: 0.6207 - val_accuracy: 0.9157\n",
            "Epoch 13/150\n",
            "1231/1231 [==============================] - 4s 3ms/step - loss: 0.1460 - accuracy: 0.9684 - val_loss: 0.6215 - val_accuracy: 0.9158\n",
            "Epoch 14/150\n",
            "1231/1231 [==============================] - 4s 3ms/step - loss: 0.1303 - accuracy: 0.9710 - val_loss: 0.6031 - val_accuracy: 0.9175\n",
            "Epoch 15/150\n",
            "1231/1231 [==============================] - 4s 3ms/step - loss: 0.1157 - accuracy: 0.9743 - val_loss: 0.5996 - val_accuracy: 0.9174\n",
            "Epoch 16/150\n",
            "1231/1231 [==============================] - 4s 3ms/step - loss: 0.1039 - accuracy: 0.9763 - val_loss: 0.5951 - val_accuracy: 0.9165\n",
            "Epoch 17/150\n",
            "1231/1231 [==============================] - 4s 3ms/step - loss: 0.0924 - accuracy: 0.9789 - val_loss: 0.5895 - val_accuracy: 0.9178\n",
            "Epoch 18/150\n",
            "1231/1231 [==============================] - 4s 3ms/step - loss: 0.0825 - accuracy: 0.9816 - val_loss: 0.5898 - val_accuracy: 0.9170\n",
            "Epoch 19/150\n",
            "1231/1231 [==============================] - 4s 3ms/step - loss: 0.0750 - accuracy: 0.9829 - val_loss: 0.5765 - val_accuracy: 0.9195\n",
            "Epoch 20/150\n",
            "1231/1231 [==============================] - 4s 3ms/step - loss: 0.0674 - accuracy: 0.9859 - val_loss: 0.5993 - val_accuracy: 0.9164\n",
            "Epoch 21/150\n",
            "1231/1231 [==============================] - 4s 3ms/step - loss: 0.0604 - accuracy: 0.9862 - val_loss: 0.5700 - val_accuracy: 0.9204\n",
            "Epoch 22/150\n",
            "1231/1231 [==============================] - 4s 3ms/step - loss: 0.0551 - accuracy: 0.9881 - val_loss: 0.5737 - val_accuracy: 0.9202\n",
            "Epoch 23/150\n",
            "1231/1231 [==============================] - 4s 3ms/step - loss: 0.0504 - accuracy: 0.9890 - val_loss: 0.5671 - val_accuracy: 0.9196\n",
            "Epoch 24/150\n",
            "1231/1231 [==============================] - 4s 3ms/step - loss: 0.0453 - accuracy: 0.9910 - val_loss: 0.5662 - val_accuracy: 0.9203\n",
            "Epoch 25/150\n",
            "1231/1231 [==============================] - 4s 3ms/step - loss: 0.0413 - accuracy: 0.9912 - val_loss: 0.5656 - val_accuracy: 0.9189\n",
            "Epoch 26/150\n",
            "1231/1231 [==============================] - 4s 3ms/step - loss: 0.0380 - accuracy: 0.9922 - val_loss: 0.5623 - val_accuracy: 0.9197\n",
            "Epoch 27/150\n",
            "1231/1231 [==============================] - 4s 3ms/step - loss: 0.0345 - accuracy: 0.9936 - val_loss: 0.5575 - val_accuracy: 0.9217\n",
            "Epoch 28/150\n",
            "1231/1231 [==============================] - 4s 3ms/step - loss: 0.0315 - accuracy: 0.9942 - val_loss: 0.5578 - val_accuracy: 0.9210\n",
            "Epoch 29/150\n",
            "1231/1231 [==============================] - 4s 3ms/step - loss: 0.0289 - accuracy: 0.9949 - val_loss: 0.5553 - val_accuracy: 0.9222\n",
            "Epoch 30/150\n",
            "1231/1231 [==============================] - 4s 3ms/step - loss: 0.0264 - accuracy: 0.9954 - val_loss: 0.5523 - val_accuracy: 0.9224\n",
            "Epoch 31/150\n",
            "1231/1231 [==============================] - 4s 3ms/step - loss: 0.0245 - accuracy: 0.9958 - val_loss: 0.5536 - val_accuracy: 0.9225\n",
            "Epoch 32/150\n",
            "1231/1231 [==============================] - 4s 3ms/step - loss: 0.0223 - accuracy: 0.9964 - val_loss: 0.5490 - val_accuracy: 0.9222\n",
            "Epoch 33/150\n",
            "1231/1231 [==============================] - 4s 4ms/step - loss: 0.0205 - accuracy: 0.9967 - val_loss: 0.5523 - val_accuracy: 0.9228\n",
            "Epoch 34/150\n",
            "1231/1231 [==============================] - 4s 3ms/step - loss: 0.0189 - accuracy: 0.9970 - val_loss: 0.5465 - val_accuracy: 0.9241\n",
            "Epoch 35/150\n",
            "1231/1231 [==============================] - 4s 3ms/step - loss: 0.0176 - accuracy: 0.9977 - val_loss: 0.5496 - val_accuracy: 0.9234\n",
            "Epoch 36/150\n",
            "1231/1231 [==============================] - 4s 3ms/step - loss: 0.0161 - accuracy: 0.9981 - val_loss: 0.5468 - val_accuracy: 0.9243\n",
            "Epoch 37/150\n",
            "1231/1231 [==============================] - 4s 3ms/step - loss: 0.0150 - accuracy: 0.9980 - val_loss: 0.5481 - val_accuracy: 0.9237\n",
            "Epoch 38/150\n",
            "1231/1231 [==============================] - 4s 3ms/step - loss: 0.0140 - accuracy: 0.9983 - val_loss: 0.5442 - val_accuracy: 0.9237\n",
            "Epoch 39/150\n",
            "1231/1231 [==============================] - 4s 3ms/step - loss: 0.0131 - accuracy: 0.9986 - val_loss: 0.5444 - val_accuracy: 0.9238\n",
            "Epoch 40/150\n",
            "1231/1231 [==============================] - 4s 3ms/step - loss: 0.0122 - accuracy: 0.9986 - val_loss: 0.5425 - val_accuracy: 0.9237\n",
            "Epoch 41/150\n",
            "1231/1231 [==============================] - 4s 3ms/step - loss: 0.0115 - accuracy: 0.9988 - val_loss: 0.5431 - val_accuracy: 0.9243\n",
            "Epoch 42/150\n",
            "1231/1231 [==============================] - 4s 3ms/step - loss: 0.0107 - accuracy: 0.9989 - val_loss: 0.5423 - val_accuracy: 0.9250\n",
            "Epoch 43/150\n",
            "1231/1231 [==============================] - 4s 3ms/step - loss: 0.0100 - accuracy: 0.9989 - val_loss: 0.5417 - val_accuracy: 0.9251\n",
            "Epoch 44/150\n",
            "1231/1231 [==============================] - 4s 3ms/step - loss: 0.0094 - accuracy: 0.9992 - val_loss: 0.5401 - val_accuracy: 0.9255\n",
            "Epoch 45/150\n",
            "1231/1231 [==============================] - 4s 3ms/step - loss: 0.0089 - accuracy: 0.9992 - val_loss: 0.5407 - val_accuracy: 0.9254\n",
            "Epoch 46/150\n",
            "1231/1231 [==============================] - 4s 3ms/step - loss: 0.0084 - accuracy: 0.9994 - val_loss: 0.5405 - val_accuracy: 0.9256\n",
            "Epoch 47/150\n",
            "1231/1231 [==============================] - 4s 3ms/step - loss: 0.0080 - accuracy: 0.9995 - val_loss: 0.5418 - val_accuracy: 0.9259\n",
            "Epoch 48/150\n",
            "1231/1231 [==============================] - 4s 3ms/step - loss: 0.0075 - accuracy: 0.9994 - val_loss: 0.5388 - val_accuracy: 0.9261\n",
            "Epoch 49/150\n",
            "1231/1231 [==============================] - 4s 3ms/step - loss: 0.0072 - accuracy: 0.9996 - val_loss: 0.5387 - val_accuracy: 0.9259\n",
            "Epoch 50/150\n",
            "1231/1231 [==============================] - 4s 3ms/step - loss: 0.0068 - accuracy: 0.9996 - val_loss: 0.5392 - val_accuracy: 0.9264\n",
            "Epoch 51/150\n",
            "1231/1231 [==============================] - 4s 3ms/step - loss: 0.0065 - accuracy: 0.9997 - val_loss: 0.5403 - val_accuracy: 0.9266\n",
            "Epoch 52/150\n",
            "1231/1231 [==============================] - 4s 3ms/step - loss: 0.0063 - accuracy: 0.9997 - val_loss: 0.5375 - val_accuracy: 0.9269\n",
            "Epoch 53/150\n",
            "1231/1231 [==============================] - 4s 3ms/step - loss: 0.0060 - accuracy: 0.9997 - val_loss: 0.5380 - val_accuracy: 0.9272\n",
            "Epoch 54/150\n",
            "1231/1231 [==============================] - 4s 3ms/step - loss: 0.0057 - accuracy: 0.9998 - val_loss: 0.5385 - val_accuracy: 0.9266\n",
            "Epoch 55/150\n",
            "1231/1231 [==============================] - 4s 4ms/step - loss: 0.0055 - accuracy: 0.9998 - val_loss: 0.5389 - val_accuracy: 0.9269\n",
            "Epoch 56/150\n",
            "1231/1231 [==============================] - 4s 3ms/step - loss: 0.0053 - accuracy: 0.9998 - val_loss: 0.5388 - val_accuracy: 0.9273\n",
            "Epoch 57/150\n",
            "1231/1231 [==============================] - 4s 3ms/step - loss: 0.0051 - accuracy: 0.9998 - val_loss: 0.5373 - val_accuracy: 0.9282\n",
            "Epoch 58/150\n",
            "1231/1231 [==============================] - 4s 3ms/step - loss: 0.0049 - accuracy: 0.9999 - val_loss: 0.5367 - val_accuracy: 0.9272\n",
            "Epoch 59/150\n",
            "1231/1231 [==============================] - 4s 3ms/step - loss: 0.0047 - accuracy: 0.9998 - val_loss: 0.5372 - val_accuracy: 0.9280\n",
            "Epoch 60/150\n",
            "1231/1231 [==============================] - 4s 3ms/step - loss: 0.0046 - accuracy: 0.9999 - val_loss: 0.5373 - val_accuracy: 0.9275\n",
            "Epoch 61/150\n",
            "1231/1231 [==============================] - 4s 3ms/step - loss: 0.0045 - accuracy: 0.9999 - val_loss: 0.5357 - val_accuracy: 0.9283\n",
            "Epoch 62/150\n",
            "1231/1231 [==============================] - 4s 3ms/step - loss: 0.0043 - accuracy: 0.9999 - val_loss: 0.5366 - val_accuracy: 0.9280\n",
            "Epoch 63/150\n",
            "1231/1231 [==============================] - 4s 3ms/step - loss: 0.0042 - accuracy: 0.9999 - val_loss: 0.5356 - val_accuracy: 0.9282\n",
            "Epoch 64/150\n",
            "1231/1231 [==============================] - 4s 3ms/step - loss: 0.0040 - accuracy: 0.9999 - val_loss: 0.5365 - val_accuracy: 0.9282\n",
            "Epoch 65/150\n",
            "1231/1231 [==============================] - 4s 3ms/step - loss: 0.0039 - accuracy: 0.9999 - val_loss: 0.5360 - val_accuracy: 0.9285\n",
            "Epoch 66/150\n",
            "1231/1231 [==============================] - 4s 3ms/step - loss: 0.0038 - accuracy: 0.9999 - val_loss: 0.5346 - val_accuracy: 0.9288\n",
            "Epoch 67/150\n",
            "1231/1231 [==============================] - 4s 3ms/step - loss: 0.0037 - accuracy: 0.9999 - val_loss: 0.5358 - val_accuracy: 0.9289\n",
            "Epoch 68/150\n",
            "1231/1231 [==============================] - 4s 3ms/step - loss: 0.0036 - accuracy: 0.9999 - val_loss: 0.5354 - val_accuracy: 0.9282\n",
            "Epoch 69/150\n",
            "1231/1231 [==============================] - 4s 3ms/step - loss: 0.0035 - accuracy: 0.9999 - val_loss: 0.5362 - val_accuracy: 0.9288\n",
            "Epoch 70/150\n",
            "1231/1231 [==============================] - 4s 3ms/step - loss: 0.0035 - accuracy: 0.9999 - val_loss: 0.5347 - val_accuracy: 0.9293\n",
            "Epoch 71/150\n",
            "1231/1231 [==============================] - 4s 3ms/step - loss: 0.0034 - accuracy: 1.0000 - val_loss: 0.5343 - val_accuracy: 0.9288\n",
            "Epoch 72/150\n",
            "1231/1231 [==============================] - 4s 3ms/step - loss: 0.0033 - accuracy: 0.9999 - val_loss: 0.5342 - val_accuracy: 0.9294\n",
            "Epoch 73/150\n",
            "1231/1231 [==============================] - 4s 3ms/step - loss: 0.0032 - accuracy: 1.0000 - val_loss: 0.5336 - val_accuracy: 0.9294\n",
            "Epoch 74/150\n",
            "1231/1231 [==============================] - 4s 3ms/step - loss: 0.0031 - accuracy: 0.9999 - val_loss: 0.5349 - val_accuracy: 0.9296\n",
            "Epoch 75/150\n",
            "1231/1231 [==============================] - 4s 3ms/step - loss: 0.0031 - accuracy: 1.0000 - val_loss: 0.5336 - val_accuracy: 0.9298\n",
            "Epoch 76/150\n",
            "1231/1231 [==============================] - 4s 3ms/step - loss: 0.0030 - accuracy: 1.0000 - val_loss: 0.5340 - val_accuracy: 0.9303\n",
            "Epoch 77/150\n",
            "1231/1231 [==============================] - 4s 3ms/step - loss: 0.0029 - accuracy: 1.0000 - val_loss: 0.5343 - val_accuracy: 0.9295\n",
            "Epoch 78/150\n",
            "1231/1231 [==============================] - 4s 3ms/step - loss: 0.0029 - accuracy: 1.0000 - val_loss: 0.5328 - val_accuracy: 0.9301\n",
            "Epoch 79/150\n",
            "1231/1231 [==============================] - 4s 3ms/step - loss: 0.0028 - accuracy: 1.0000 - val_loss: 0.5339 - val_accuracy: 0.9298\n",
            "Epoch 80/150\n",
            "1231/1231 [==============================] - 4s 3ms/step - loss: 0.0028 - accuracy: 1.0000 - val_loss: 0.5336 - val_accuracy: 0.9300\n",
            "Epoch 81/150\n",
            "1231/1231 [==============================] - 4s 3ms/step - loss: 0.0027 - accuracy: 1.0000 - val_loss: 0.5332 - val_accuracy: 0.9303\n",
            "Epoch 82/150\n",
            "1231/1231 [==============================] - 4s 3ms/step - loss: 0.0027 - accuracy: 1.0000 - val_loss: 0.5331 - val_accuracy: 0.9301\n",
            "Epoch 83/150\n",
            "1231/1231 [==============================] - 4s 3ms/step - loss: 0.0026 - accuracy: 1.0000 - val_loss: 0.5332 - val_accuracy: 0.9304\n",
            "Epoch 84/150\n",
            "1231/1231 [==============================] - 4s 3ms/step - loss: 0.0026 - accuracy: 1.0000 - val_loss: 0.5326 - val_accuracy: 0.9301\n",
            "Epoch 85/150\n",
            "1231/1231 [==============================] - 4s 3ms/step - loss: 0.0025 - accuracy: 1.0000 - val_loss: 0.5324 - val_accuracy: 0.9302\n",
            "Epoch 86/150\n",
            "1231/1231 [==============================] - 4s 3ms/step - loss: 0.0025 - accuracy: 1.0000 - val_loss: 0.5322 - val_accuracy: 0.9307\n",
            "Epoch 87/150\n",
            "1231/1231 [==============================] - 4s 3ms/step - loss: 0.0024 - accuracy: 1.0000 - val_loss: 0.5322 - val_accuracy: 0.9304\n",
            "Epoch 88/150\n",
            "1231/1231 [==============================] - 4s 3ms/step - loss: 0.0024 - accuracy: 1.0000 - val_loss: 0.5321 - val_accuracy: 0.9304\n",
            "Epoch 89/150\n",
            "1231/1231 [==============================] - 4s 3ms/step - loss: 0.0023 - accuracy: 1.0000 - val_loss: 0.5326 - val_accuracy: 0.9302\n",
            "Epoch 90/150\n",
            "1231/1231 [==============================] - 4s 3ms/step - loss: 0.0023 - accuracy: 1.0000 - val_loss: 0.5320 - val_accuracy: 0.9301\n",
            "Epoch 91/150\n",
            "1231/1231 [==============================] - 4s 3ms/step - loss: 0.0023 - accuracy: 1.0000 - val_loss: 0.5316 - val_accuracy: 0.9304\n",
            "Epoch 92/150\n",
            "1231/1231 [==============================] - 4s 3ms/step - loss: 0.0022 - accuracy: 1.0000 - val_loss: 0.5322 - val_accuracy: 0.9307\n",
            "Epoch 93/150\n",
            "1231/1231 [==============================] - 4s 3ms/step - loss: 0.0022 - accuracy: 1.0000 - val_loss: 0.5319 - val_accuracy: 0.9305\n",
            "Epoch 94/150\n",
            "1231/1231 [==============================] - 4s 3ms/step - loss: 0.0022 - accuracy: 1.0000 - val_loss: 0.5317 - val_accuracy: 0.9308\n",
            "Epoch 95/150\n",
            "1231/1231 [==============================] - 4s 3ms/step - loss: 0.0021 - accuracy: 1.0000 - val_loss: 0.5322 - val_accuracy: 0.9308\n",
            "Epoch 96/150\n",
            "1231/1231 [==============================] - 4s 3ms/step - loss: 0.0021 - accuracy: 1.0000 - val_loss: 0.5315 - val_accuracy: 0.9311\n",
            "Epoch 97/150\n",
            "1231/1231 [==============================] - 4s 3ms/step - loss: 0.0021 - accuracy: 1.0000 - val_loss: 0.5316 - val_accuracy: 0.9310\n",
            "Epoch 98/150\n",
            "1231/1231 [==============================] - 4s 3ms/step - loss: 0.0021 - accuracy: 1.0000 - val_loss: 0.5312 - val_accuracy: 0.9306\n",
            "Epoch 99/150\n",
            "1231/1231 [==============================] - 4s 3ms/step - loss: 0.0020 - accuracy: 1.0000 - val_loss: 0.5312 - val_accuracy: 0.9310\n",
            "Epoch 100/150\n",
            "1231/1231 [==============================] - 4s 3ms/step - loss: 0.0020 - accuracy: 1.0000 - val_loss: 0.5310 - val_accuracy: 0.9311\n",
            "Epoch 101/150\n",
            "1231/1231 [==============================] - 4s 3ms/step - loss: 0.0020 - accuracy: 1.0000 - val_loss: 0.5311 - val_accuracy: 0.9311\n",
            "Epoch 102/150\n",
            "1231/1231 [==============================] - 4s 3ms/step - loss: 0.0019 - accuracy: 1.0000 - val_loss: 0.5318 - val_accuracy: 0.9312\n",
            "Epoch 103/150\n",
            "1231/1231 [==============================] - 4s 3ms/step - loss: 0.0019 - accuracy: 1.0000 - val_loss: 0.5316 - val_accuracy: 0.9310\n",
            "Epoch 104/150\n",
            "1231/1231 [==============================] - 4s 3ms/step - loss: 0.0019 - accuracy: 1.0000 - val_loss: 0.5311 - val_accuracy: 0.9312\n",
            "Epoch 105/150\n",
            "1231/1231 [==============================] - 4s 3ms/step - loss: 0.0019 - accuracy: 1.0000 - val_loss: 0.5315 - val_accuracy: 0.9310\n",
            "Epoch 106/150\n",
            "1231/1231 [==============================] - 4s 3ms/step - loss: 0.0019 - accuracy: 1.0000 - val_loss: 0.5308 - val_accuracy: 0.9314\n",
            "Epoch 107/150\n",
            "1231/1231 [==============================] - 4s 3ms/step - loss: 0.0018 - accuracy: 1.0000 - val_loss: 0.5308 - val_accuracy: 0.9314\n",
            "Epoch 108/150\n",
            "1231/1231 [==============================] - 4s 3ms/step - loss: 0.0018 - accuracy: 1.0000 - val_loss: 0.5312 - val_accuracy: 0.9311\n",
            "Epoch 109/150\n",
            "1231/1231 [==============================] - 4s 4ms/step - loss: 0.0018 - accuracy: 1.0000 - val_loss: 0.5312 - val_accuracy: 0.9314\n",
            "Epoch 110/150\n",
            "1231/1231 [==============================] - 4s 3ms/step - loss: 0.0018 - accuracy: 1.0000 - val_loss: 0.5305 - val_accuracy: 0.9314\n",
            "Epoch 111/150\n",
            "1231/1231 [==============================] - 4s 3ms/step - loss: 0.0017 - accuracy: 1.0000 - val_loss: 0.5307 - val_accuracy: 0.9314\n",
            "Epoch 112/150\n",
            "1231/1231 [==============================] - 4s 3ms/step - loss: 0.0017 - accuracy: 1.0000 - val_loss: 0.5307 - val_accuracy: 0.9312\n",
            "Epoch 113/150\n",
            "1231/1231 [==============================] - 4s 3ms/step - loss: 0.0017 - accuracy: 1.0000 - val_loss: 0.5302 - val_accuracy: 0.9317\n",
            "Epoch 114/150\n",
            "1231/1231 [==============================] - 4s 3ms/step - loss: 0.0017 - accuracy: 1.0000 - val_loss: 0.5309 - val_accuracy: 0.9315\n",
            "Epoch 115/150\n",
            "1231/1231 [==============================] - 4s 3ms/step - loss: 0.0017 - accuracy: 1.0000 - val_loss: 0.5303 - val_accuracy: 0.9317\n",
            "Epoch 116/150\n",
            "1231/1231 [==============================] - 4s 3ms/step - loss: 0.0016 - accuracy: 1.0000 - val_loss: 0.5305 - val_accuracy: 0.9316\n",
            "Epoch 117/150\n",
            "1231/1231 [==============================] - 4s 3ms/step - loss: 0.0016 - accuracy: 1.0000 - val_loss: 0.5304 - val_accuracy: 0.9316\n",
            "Epoch 118/150\n",
            "1231/1231 [==============================] - 4s 3ms/step - loss: 0.0016 - accuracy: 1.0000 - val_loss: 0.5305 - val_accuracy: 0.9318\n",
            "Epoch 119/150\n",
            "1231/1231 [==============================] - 4s 3ms/step - loss: 0.0016 - accuracy: 1.0000 - val_loss: 0.5305 - val_accuracy: 0.9317\n",
            "Epoch 120/150\n",
            "1231/1231 [==============================] - 4s 3ms/step - loss: 0.0016 - accuracy: 1.0000 - val_loss: 0.5304 - val_accuracy: 0.9317\n",
            "Epoch 121/150\n",
            "1231/1231 [==============================] - 4s 3ms/step - loss: 0.0016 - accuracy: 1.0000 - val_loss: 0.5303 - val_accuracy: 0.9315\n",
            "Epoch 122/150\n",
            "1231/1231 [==============================] - 4s 3ms/step - loss: 0.0015 - accuracy: 1.0000 - val_loss: 0.5309 - val_accuracy: 0.9319\n",
            "Epoch 123/150\n",
            "1231/1231 [==============================] - 4s 3ms/step - loss: 0.0015 - accuracy: 1.0000 - val_loss: 0.5304 - val_accuracy: 0.9318\n",
            "Epoch 124/150\n",
            "1231/1231 [==============================] - 4s 3ms/step - loss: 0.0015 - accuracy: 1.0000 - val_loss: 0.5305 - val_accuracy: 0.9318\n",
            "Epoch 125/150\n",
            "1231/1231 [==============================] - 4s 3ms/step - loss: 0.0015 - accuracy: 1.0000 - val_loss: 0.5298 - val_accuracy: 0.9318\n",
            "Epoch 126/150\n",
            "1231/1231 [==============================] - 4s 3ms/step - loss: 0.0015 - accuracy: 1.0000 - val_loss: 0.5296 - val_accuracy: 0.9320\n",
            "Epoch 127/150\n",
            "1231/1231 [==============================] - 4s 3ms/step - loss: 0.0015 - accuracy: 1.0000 - val_loss: 0.5301 - val_accuracy: 0.9321\n",
            "Epoch 128/150\n",
            "1231/1231 [==============================] - 4s 3ms/step - loss: 0.0014 - accuracy: 1.0000 - val_loss: 0.5296 - val_accuracy: 0.9318\n",
            "Epoch 129/150\n",
            "1231/1231 [==============================] - 4s 3ms/step - loss: 0.0014 - accuracy: 1.0000 - val_loss: 0.5300 - val_accuracy: 0.9323\n",
            "Epoch 130/150\n",
            "1231/1231 [==============================] - 4s 3ms/step - loss: 0.0014 - accuracy: 1.0000 - val_loss: 0.5299 - val_accuracy: 0.9323\n",
            "Epoch 131/150\n",
            "1231/1231 [==============================] - 4s 3ms/step - loss: 0.0014 - accuracy: 1.0000 - val_loss: 0.5297 - val_accuracy: 0.9322\n",
            "Epoch 132/150\n",
            "1231/1231 [==============================] - 4s 4ms/step - loss: 0.0014 - accuracy: 1.0000 - val_loss: 0.5298 - val_accuracy: 0.9323\n",
            "Epoch 133/150\n",
            "1231/1231 [==============================] - 4s 4ms/step - loss: 0.0014 - accuracy: 1.0000 - val_loss: 0.5297 - val_accuracy: 0.9321\n",
            "Epoch 134/150\n",
            "1231/1231 [==============================] - 4s 3ms/step - loss: 0.0014 - accuracy: 1.0000 - val_loss: 0.5299 - val_accuracy: 0.9322\n",
            "Epoch 135/150\n",
            "1231/1231 [==============================] - 4s 3ms/step - loss: 0.0014 - accuracy: 1.0000 - val_loss: 0.5293 - val_accuracy: 0.9322\n",
            "Epoch 136/150\n",
            "1231/1231 [==============================] - 4s 3ms/step - loss: 0.0013 - accuracy: 1.0000 - val_loss: 0.5297 - val_accuracy: 0.9323\n",
            "Epoch 137/150\n",
            "1231/1231 [==============================] - 4s 3ms/step - loss: 0.0013 - accuracy: 1.0000 - val_loss: 0.5295 - val_accuracy: 0.9323\n",
            "Epoch 138/150\n",
            "1231/1231 [==============================] - 4s 3ms/step - loss: 0.0013 - accuracy: 1.0000 - val_loss: 0.5301 - val_accuracy: 0.9327\n",
            "Epoch 139/150\n",
            "1231/1231 [==============================] - 4s 3ms/step - loss: 0.0013 - accuracy: 1.0000 - val_loss: 0.5296 - val_accuracy: 0.9323\n",
            "Epoch 140/150\n",
            "1231/1231 [==============================] - 4s 3ms/step - loss: 0.0013 - accuracy: 1.0000 - val_loss: 0.5294 - val_accuracy: 0.9325\n",
            "Epoch 141/150\n",
            "1231/1231 [==============================] - 4s 3ms/step - loss: 0.0013 - accuracy: 1.0000 - val_loss: 0.5295 - val_accuracy: 0.9328\n",
            "Epoch 142/150\n",
            "1231/1231 [==============================] - 4s 3ms/step - loss: 0.0013 - accuracy: 1.0000 - val_loss: 0.5295 - val_accuracy: 0.9323\n",
            "Epoch 143/150\n",
            "1231/1231 [==============================] - 4s 3ms/step - loss: 0.0013 - accuracy: 1.0000 - val_loss: 0.5292 - val_accuracy: 0.9326\n",
            "Epoch 144/150\n",
            "1231/1231 [==============================] - 4s 3ms/step - loss: 0.0013 - accuracy: 1.0000 - val_loss: 0.5293 - val_accuracy: 0.9323\n",
            "Epoch 145/150\n",
            "1231/1231 [==============================] - 4s 3ms/step - loss: 0.0012 - accuracy: 1.0000 - val_loss: 0.5298 - val_accuracy: 0.9328\n",
            "Epoch 146/150\n",
            "1231/1231 [==============================] - 4s 3ms/step - loss: 0.0012 - accuracy: 1.0000 - val_loss: 0.5293 - val_accuracy: 0.9327\n",
            "Epoch 147/150\n",
            "1231/1231 [==============================] - 4s 3ms/step - loss: 0.0012 - accuracy: 1.0000 - val_loss: 0.5298 - val_accuracy: 0.9329\n",
            "Epoch 148/150\n",
            "1231/1231 [==============================] - 4s 3ms/step - loss: 0.0012 - accuracy: 1.0000 - val_loss: 0.5295 - val_accuracy: 0.9330\n",
            "Epoch 149/150\n",
            "1231/1231 [==============================] - 4s 3ms/step - loss: 0.0012 - accuracy: 1.0000 - val_loss: 0.5295 - val_accuracy: 0.9328\n",
            "Epoch 150/150\n",
            "1231/1231 [==============================] - 4s 3ms/step - loss: 0.0012 - accuracy: 1.0000 - val_loss: 0.5295 - val_accuracy: 0.9328\n",
            "\n",
            "\n",
            "\n",
            "------- evaluating model--------\n",
            "547/547 [==============================] - 1s 2ms/step - loss: 0.4855 - accuracy: 0.9371\n",
            "[0.48548784852027893, 0.9371428489685059]\n"
          ],
          "name": "stdout"
        },
        {
          "output_type": "display_data",
          "data": {
            "image/png": "[encoded data removed]",
            "text/plain": [
              "<Figure size 576x360 with 1 Axes>"
            ]
          },
          "metadata": {
            "tags": []
          }
        }
      ]
    },
    {
      "cell_type": "code",
      "metadata": {
        "id": "oiV-SmN0E1DG",
        "colab_type": "code",
        "colab": {
          "base_uri": "https://localhost:8080/",
          "height": 877
        },
        "outputId": "1042dd06-bab7-4c4b-8919-242c88b2408c"
      },
      "source": [
        "idx = np.random.randint(X_test.shape[0], size=9)\n",
        "X_new, y_new = X_test[idx, :], y_test[idx]\n",
        "\n",
        "fig, axes = plt.subplots(nrows=3, ncols=3, figsize=(15, 15))\n",
        "\n",
        "idx = -1\n",
        "for i, row in enumerate(axes):\n",
        "    for j, ax in enumerate(row):\n",
        "        idx += 1\n",
        "\n",
        "        X_loc = X_new[idx]\n",
        "        y_pred = model.predict_classes(X_loc.reshape(1, -1))[0]\n",
        "        square_color = 'g' if y_pred == y_new[idx] else 'r'\n",
        "        frame = plt_patches.Rectangle((0, 0), 27, 27, edgecolor=square_color, facecolor='none', lw=3)\n",
        "        ax.imshow(X_loc.reshape(28, 28), cmap='Greys')\n",
        "        ax.add_patch(frame)\n",
        "        ax.set_title(f'true number: {y_new[idx]}\\nprediction: {y_pred}')\n",
        "        ax.axis('off')"
      ],
      "execution_count": 14,
      "outputs": [
        {
          "output_type": "display_data",
          "data": {
            "image/png": "[encoded data removed]",
            "text/plain": [
              "<Figure size 1080x1080 with 9 Axes>"
            ]
          },
          "metadata": {
            "tags": []
          }
        }
      ]
    },
    {
      "cell_type": "code",
      "metadata": {
        "id": "0XlldMV_WcXy",
        "colab_type": "code",
        "colab": {}
      },
      "source": [
        ""
      ],
      "execution_count": 0,
      "outputs": []
    }
  ]
}