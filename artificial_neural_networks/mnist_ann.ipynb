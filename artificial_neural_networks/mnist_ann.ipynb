{
  "nbformat": 4,
  "nbformat_minor": 0,
  "metadata": {
    "colab": {
      "name": "mnist_ann.ipynb",
      "provenance": [],
      "authorship_tag": "ABX9TyPDHVQWbWPn3lOu/44ExMvD",
      "include_colab_link": true
    },
    "kernelspec": {
      "name": "python3",
      "display_name": "Python 3"
    }
  },
  "cells": [
    {
      "cell_type": "markdown",
      "metadata": {
        "id": "view-in-github",
        "colab_type": "text"
      },
      "source": [
        "<a href=\"https://colab.research.google.com/github/mzignis/hands_on_machine_learning/blob/master/artificial_neural_networks/mnist_ann.ipynb\" target=\"_parent\"><img src=\"https://colab.research.google.com/assets/colab-badge.svg\" alt=\"Open In Colab\"/></a>"
      ]
    },
    {
      "cell_type": "code",
      "metadata": {
        "id": "kgTU8ui_k2cu",
        "colab_type": "code",
        "colab": {}
      },
      "source": [
        "import matplotlib.pyplot as plt\n",
        "import matplotlib.patches as patches\n",
        "import numpy as np\n",
        "import pandas as pd\n",
        "import seaborn as sns\n",
        "\n",
        "from sklearn.datasets import fetch_openml\n",
        "from sklearn.model_selection import train_test_split\n",
        "\n",
        "import tensorflow as tf\n",
        "from tensorflow import keras\n",
        "\n",
        "from hyperopt import hp, STATUS_OK, tpe, Trials, fmin\n",
        "\n",
        "sns.set()"
      ],
      "execution_count": 0,
      "outputs": []
    },
    {
      "cell_type": "code",
      "metadata": {
        "id": "8gs3FpTelqN_",
        "colab_type": "code",
        "colab": {}
      },
      "source": [
        "mnist = fetch_openml('mnist_784', version=1)"
      ],
      "execution_count": 0,
      "outputs": []
    },
    {
      "cell_type": "code",
      "metadata": {
        "id": "uFY3fDEel59O",
        "colab_type": "code",
        "colab": {}
      },
      "source": [
        "X = mnist.data\n",
        "y = mnist.target.astype(np.int)"
      ],
      "execution_count": 0,
      "outputs": []
    },
    {
      "cell_type": "code",
      "metadata": {
        "id": "emtVYL5xmdTR",
        "colab_type": "code",
        "colab": {}
      },
      "source": [
        "X_train_full, X_test, y_train_full, y_test = train_test_split(X, y)\n",
        "X_train, X_val, y_train, y_val = train_test_split(X_train_full, y_train_full)"
      ],
      "execution_count": 0,
      "outputs": []
    },
    {
      "cell_type": "code",
      "metadata": {
        "id": "QZ9P0UNNn7Ow",
        "colab_type": "code",
        "outputId": "2c16bf13-3ff3-48b9-84c2-f517cb86c1c4",
        "colab": {
          "base_uri": "https://localhost:8080/",
          "height": 34
        }
      },
      "source": [
        "input_shape = X_train.shape[1]\n",
        "X_train.shape, y_train.shape"
      ],
      "execution_count": 5,
      "outputs": [
        {
          "output_type": "execute_result",
          "data": {
            "text/plain": [
              "((39375, 784), (39375,))"
            ]
          },
          "metadata": {
            "tags": []
          },
          "execution_count": 5
        }
      ]
    },
    {
      "cell_type": "code",
      "metadata": {
        "id": "BcGQlZH3olyv",
        "colab_type": "code",
        "colab": {}
      },
      "source": [
        "def create_model(params: dict):\n",
        "    model = keras.models.Sequential()\n",
        "\n",
        "    # -------- input layer --------\n",
        "    model.add(keras.Input(shape=X_train.shape[1:]))\n",
        "\n",
        "    # -------- deep layers --------\n",
        "    layers_number = int(params.get('deep_layers_no', 1))\n",
        "    neurons_number = int(params.get('neurons_number', 100))\n",
        "\n",
        "    for layer_no in range(layers_number):\n",
        "        model.add(keras.layers.Dense(neurons_number, activation='relu'))\n",
        "\n",
        "    # -------- output layer --------\n",
        "    model.add(keras.layers.Dense(10, activation='softmax'))\n",
        "\n",
        "    learning_rate = params.get('learning_rate', 1e-3)\n",
        "    optimizer = params.get('optimizer', 'Adam')\n",
        "    model.compile(loss=\"sparse_categorical_crossentropy\", \n",
        "                  optimizer=optimizer, \n",
        "                  metrics=[\"accuracy\"])\n",
        "    \n",
        "    return model"
      ],
      "execution_count": 0,
      "outputs": []
    },
    {
      "cell_type": "code",
      "metadata": {
        "id": "9SFcT1KQonT8",
        "colab_type": "code",
        "colab": {}
      },
      "source": [
        "def fit_model(model, X_train, y_train, params: dict):\n",
        "    history = model.fit(X_train, y_train, \n",
        "                        batch_size=int(params.get('batch_size', 32)),\n",
        "                        epochs=int(params.get('epochs', 5)),\n",
        "                        verbose=params.get('verbose', 0),\n",
        "                        validation_data=params.get('validation_data', (X_val, y_val)),\n",
        "                        callbacks=params.get('callbacks', []))\n",
        "    return history"
      ],
      "execution_count": 0,
      "outputs": []
    },
    {
      "cell_type": "code",
      "metadata": {
        "id": "LOzeSwjyulqX",
        "colab_type": "code",
        "colab": {}
      },
      "source": [
        "def fit_and_evaluate(params: dict = None):\n",
        "\n",
        "    model_params = params.get('model_params', {})\n",
        "    fit_params = params.get('fit_params', {})\n",
        "\n",
        "    model = create_model(model_params)\n",
        "    # model.summary()\n",
        "\n",
        "    history = fit_model(model, X_train, y_train, fit_params)\n",
        "\n",
        "    score = model.evaluate(X_test, y_test, verbose=0)\n",
        "    accuracy = score[1]\n",
        "\n",
        "    print(f'params={params}')\n",
        "    print(f'accuracy={accuracy}')\n",
        "\n",
        "    return {'loss': -accuracy, 'status': STATUS_OK, 'model': model}"
      ],
      "execution_count": 0,
      "outputs": []
    },
    {
      "cell_type": "code",
      "metadata": {
        "id": "8ADh-LDpO6qs",
        "colab_type": "code",
        "outputId": "4b21b825-ec9c-4189-f5a6-8f301799fc6a",
        "colab": {
          "base_uri": "https://localhost:8080/",
          "height": 71
        }
      },
      "source": [
        "model_dict = fit_and_evaluate(params={'model_params': {'deep_layers_no': 3, \n",
        "                                                        'neurons_number': 150,\n",
        "                                                        'optimizer': 'Adam',\n",
        "                                                        'learning_rate': 3e-4}, \n",
        "                                      'fit_params': {'batch_size': 32, \n",
        "                                                     'epochs': 1,\n",
        "                                                     'callbacks': [keras.callbacks.EarlyStopping(patience=10)]\n",
        "                                                     }\n",
        "                                      }\n",
        "                              )\n",
        "\n",
        "\n",
        "# pd.DataFrame(history.history).plot(figsize=(8, 5))\n",
        "# plt.grid(True)\n",
        "# plt.gca().set_ylim(0, 1) # set the vertical range to [0-1]\n",
        "# plt.show()"
      ],
      "execution_count": 9,
      "outputs": [
        {
          "output_type": "stream",
          "text": [
            "params={'model_params': {'deep_layers_no': 3, 'neurons_number': 150, 'optimizer': 'Adam', 'learning_rate': 0.0003}, 'fit_params': {'batch_size': 32, 'epochs': 1, 'callbacks': [<tensorflow.python.keras.callbacks.EarlyStopping object at 0x7fca1baa6cf8>]}}\n",
            "accuracy=0.9137142896652222\n"
          ],
          "name": "stdout"
        }
      ]
    },
    {
      "cell_type": "code",
      "metadata": {
        "id": "stqnwv2LO5Ny",
        "colab_type": "code",
        "colab": {}
      },
      "source": [
        "space = {\n",
        "    'model_params': {\n",
        "        'deep_layers_no': hp.quniform('deep_layers_no', 1, 3, 1),\n",
        "        'neurons_number': hp.quniform('neurons_number', 100, 500, 25),\n",
        "        'learning_rate': hp.uniform('learning_rate', 1e-2, 1e-5)\n",
        "    },\n",
        "    'fit_params': {\n",
        "        'batch_size': hp.quniform('batch_size', 20, 128, 1),\n",
        "        'epochs': hp.quniform('epochs', 5, 100, 5),\n",
        "        'callbacks': [keras.callbacks.EarlyStopping(patience=20)]\n",
        "    }\n",
        "}"
      ],
      "execution_count": 0,
      "outputs": []
    },
    {
      "cell_type": "code",
      "metadata": {
        "id": "AtVz3gmyPyFJ",
        "colab_type": "code",
        "outputId": "e2513605-287c-4d9a-c9ec-dcc3d317df31",
        "colab": {
          "base_uri": "https://localhost:8080/",
          "height": 564
        }
      },
      "source": [
        "best = fmin(\n",
        "    fn=fit_and_evaluate,\n",
        "    space=space,\n",
        "    algo=tpe.suggest,\n",
        "    max_evals=15,\n",
        "    verbose=False,\n",
        "    trials=Trials(),\n",
        ")"
      ],
      "execution_count": 17,
      "outputs": [
        {
          "output_type": "stream",
          "text": [
            "params={'fit_params': {'batch_size': 71.0, 'callbacks': (<tensorflow.python.keras.callbacks.EarlyStopping object at 0x7fca007ac7f0>,), 'epochs': 20.0}, 'model_params': {'deep_layers_no': 1.0, 'learning_rate': 0.0008624620024764423, 'neurons_number': 425.0}}\n",
            "accuracy=0.9590857028961182\n",
            "params={'fit_params': {'batch_size': 125.0, 'callbacks': (<tensorflow.python.keras.callbacks.EarlyStopping object at 0x7fca007ac7f0>,), 'epochs': 45.0}, 'model_params': {'deep_layers_no': 1.0, 'learning_rate': 0.0024896662166385385, 'neurons_number': 250.0}}\n",
            "accuracy=0.9678857326507568\n",
            "params={'fit_params': {'batch_size': 61.0, 'callbacks': (<tensorflow.python.keras.callbacks.EarlyStopping object at 0x7fca007ac7f0>,), 'epochs': 30.0}, 'model_params': {'deep_layers_no': 3.0, 'learning_rate': 0.009417083220363703, 'neurons_number': 250.0}}\n",
            "accuracy=0.969257116317749\n",
            "params={'fit_params': {'batch_size': 63.0, 'callbacks': (<tensorflow.python.keras.callbacks.EarlyStopping object at 0x7fca007ac7f0>,), 'epochs': 35.0}, 'model_params': {'deep_layers_no': 2.0, 'learning_rate': 0.007074675577324345, 'neurons_number': 100.0}}\n",
            "accuracy=0.9647428393363953\n",
            "params={'fit_params': {'batch_size': 31.0, 'callbacks': (<tensorflow.python.keras.callbacks.EarlyStopping object at 0x7fca007ac7f0>,), 'epochs': 90.0}, 'model_params': {'deep_layers_no': 2.0, 'learning_rate': 0.008458335784661318, 'neurons_number': 150.0}}\n",
            "accuracy=0.9670285582542419\n",
            "params={'fit_params': {'batch_size': 104.0, 'callbacks': (<tensorflow.python.keras.callbacks.EarlyStopping object at 0x7fca007ac7f0>,), 'epochs': 15.0}, 'model_params': {'deep_layers_no': 3.0, 'learning_rate': 0.006371507963896588, 'neurons_number': 225.0}}\n",
            "accuracy=0.9622285962104797\n",
            "params={'fit_params': {'batch_size': 36.0, 'callbacks': (<tensorflow.python.keras.callbacks.EarlyStopping object at 0x7fca007ac7f0>,), 'epochs': 15.0}, 'model_params': {'deep_layers_no': 3.0, 'learning_rate': 0.0010042857043679933, 'neurons_number': 100.0}}\n",
            "accuracy=0.9597142934799194\n",
            "params={'fit_params': {'batch_size': 89.0, 'callbacks': (<tensorflow.python.keras.callbacks.EarlyStopping object at 0x7fca007ac7f0>,), 'epochs': 75.0}, 'model_params': {'deep_layers_no': 2.0, 'learning_rate': 0.0013800276297552816, 'neurons_number': 325.0}}\n",
            "accuracy=0.9658285975456238\n",
            "params={'fit_params': {'batch_size': 31.0, 'callbacks': (<tensorflow.python.keras.callbacks.EarlyStopping object at 0x7fca007ac7f0>,), 'epochs': 70.0}, 'model_params': {'deep_layers_no': 2.0, 'learning_rate': 0.00945670221365535, 'neurons_number': 450.0}}\n",
            "accuracy=0.9693142771720886\n",
            "params={'fit_params': {'batch_size': 47.0, 'callbacks': (<tensorflow.python.keras.callbacks.EarlyStopping object at 0x7fca007ac7f0>,), 'epochs': 45.0}, 'model_params': {'deep_layers_no': 2.0, 'learning_rate': 0.0022734568672732325, 'neurons_number': 200.0}}\n",
            "accuracy=0.9677714109420776\n",
            "params={'fit_params': {'batch_size': 63.0, 'callbacks': (<tensorflow.python.keras.callbacks.EarlyStopping object at 0x7fca007ac7f0>,), 'epochs': 90.0}, 'model_params': {'deep_layers_no': 2.0, 'learning_rate': 0.009247797326701324, 'neurons_number': 450.0}}\n",
            "accuracy=0.9685714244842529\n",
            "params={'fit_params': {'batch_size': 41.0, 'callbacks': (<tensorflow.python.keras.callbacks.EarlyStopping object at 0x7fca007ac7f0>,), 'epochs': 100.0}, 'model_params': {'deep_layers_no': 1.0, 'learning_rate': 0.0004449580357938736, 'neurons_number': 225.0}}\n",
            "accuracy=0.9539428353309631\n",
            "params={'fit_params': {'batch_size': 57.0, 'callbacks': (<tensorflow.python.keras.callbacks.EarlyStopping object at 0x7fca007ac7f0>,), 'epochs': 40.0}, 'model_params': {'deep_layers_no': 3.0, 'learning_rate': 0.004655646015724878, 'neurons_number': 175.0}}\n",
            "accuracy=0.972342848777771\n",
            "params={'fit_params': {'batch_size': 111.0, 'callbacks': (<tensorflow.python.keras.callbacks.EarlyStopping object at 0x7fca007ac7f0>,), 'epochs': 70.0}, 'model_params': {'deep_layers_no': 3.0, 'learning_rate': 0.007931260019558165, 'neurons_number': 450.0}}\n",
            "accuracy=0.9694857001304626\n",
            "params={'fit_params': {'batch_size': 73.0, 'callbacks': (<tensorflow.python.keras.callbacks.EarlyStopping object at 0x7fca007ac7f0>,), 'epochs': 40.0}, 'model_params': {'deep_layers_no': 1.0, 'learning_rate': 0.009168542436965315, 'neurons_number': 425.0}}\n",
            "accuracy=0.9694285988807678\n",
            "100%|██████████| 15/15 [22:35<00:00, 90.36s/it, best loss: -0.972342848777771] \n"
          ],
          "name": "stdout"
        }
      ]
    },
    {
      "cell_type": "code",
      "metadata": {
        "id": "rMIW3ssKx0QF",
        "colab_type": "code",
        "colab": {
          "base_uri": "https://localhost:8080/",
          "height": 102
        },
        "outputId": "42ec0858-1f04-41db-eb09-19cb74ad3b6f"
      },
      "source": [
        "best"
      ],
      "execution_count": 18,
      "outputs": [
        {
          "output_type": "execute_result",
          "data": {
            "text/plain": [
              "{'batch_size': 57.0,\n",
              " 'deep_layers_no': 3.0,\n",
              " 'epochs': 40.0,\n",
              " 'learning_rate': 0.004655646015724878,\n",
              " 'neurons_number': 175.0}"
            ]
          },
          "metadata": {
            "tags": []
          },
          "execution_count": 18
        }
      ]
    },
    {
      "cell_type": "code",
      "metadata": {
        "id": "VQ-JF7JLx3C7",
        "colab_type": "code",
        "colab": {}
      },
      "source": [
        "best_params = {\n",
        "    'model_params': {\n",
        "        'deep_layers_no': 3,\n",
        "        'neurons_number': 175,\n",
        "        'learning_rate': 0.004655646015724878\n",
        "    },\n",
        "    'fit_params': {\n",
        "        'batch_size': 32,\n",
        "        'epochs': 40,\n",
        "        'callbacks': [keras.callbacks.EarlyStopping(patience=20)]\n",
        "    }\n",
        "}"
      ],
      "execution_count": 0,
      "outputs": []
    },
    {
      "cell_type": "code",
      "metadata": {
        "id": "0OWCH5pLV3TF",
        "colab_type": "code",
        "outputId": "004e3900-ed27-4943-b76a-4fdf524f3c09",
        "colab": {
          "base_uri": "https://localhost:8080/",
          "height": 122
        }
      },
      "source": [
        "model_dict = fit_and_evaluate(best_params)\n",
        "model_dict"
      ],
      "execution_count": 20,
      "outputs": [
        {
          "output_type": "stream",
          "text": [
            "params={'model_params': {'deep_layers_no': 3, 'neurons_number': 175, 'learning_rate': 0.004655646015724878}, 'fit_params': {'batch_size': 32, 'epochs': 40, 'callbacks': [<tensorflow.python.keras.callbacks.EarlyStopping object at 0x7fca006e1ac8>]}}\n",
            "accuracy=0.9733142852783203\n"
          ],
          "name": "stdout"
        },
        {
          "output_type": "execute_result",
          "data": {
            "text/plain": [
              "{'loss': -0.9733142852783203,\n",
              " 'model': <tensorflow.python.keras.engine.sequential.Sequential at 0x7fca007acfd0>,\n",
              " 'status': 'ok'}"
            ]
          },
          "metadata": {
            "tags": []
          },
          "execution_count": 20
        }
      ]
    },
    {
      "cell_type": "code",
      "metadata": {
        "id": "0XlldMV_WcXy",
        "colab_type": "code",
        "colab": {
          "base_uri": "https://localhost:8080/",
          "height": 714
        },
        "outputId": "38af408e-6539-4361-e9e8-96ea78b49976"
      },
      "source": [
        "model = model_dict['model']\n",
        "\n",
        "rnd_idx = np.random.randint(10, size=9).tolist()\n",
        "\n",
        "X_new = X_test[rnd_idx]\n",
        "y_new = y_test[rnd_idx]\n",
        "\n",
        "y_pred = model.predict_classes(X_new)\n",
        "\n",
        "fig, axes = plt.subplots(nrows=3, ncols=3, figsize=(12, 12))\n",
        "\n",
        "idx = -1\n",
        "for row in axes:\n",
        "    for ax in row:\n",
        "        idx += 1\n",
        "        ax.imshow(X_new[idx].reshape(28, 28), cmap='Greys')\n",
        "        ax.set_title(f'true: {y_new[idx]}\\npredict: {y_pred[idx]}')\n",
        "        color = 'g' if y_pred[idx] == y_new[idx] else 'r'\n",
        "        rect = patches.Rectangle((0, 0), 27, 27, linewidth=3, edgecolor=color, facecolor='none')\n",
        "        \n",
        "        ax.add_patch(rect)\n",
        "        ax.set_axis_off()"
      ],
      "execution_count": 59,
      "outputs": [
        {
          "output_type": "display_data",
          "data": {
            "image/png": "[encoded data removed]",
            "text/plain": [
              "<Figure size 864x864 with 9 Axes>"
            ]
          },
          "metadata": {
            "tags": []
          }
        }
      ]
    },
    {
      "cell_type": "code",
      "metadata": {
        "id": "OafwwpJm1iy_",
        "colab_type": "code",
        "colab": {}
      },
      "source": [
        ""
      ],
      "execution_count": 0,
      "outputs": []
    }
  ]
}