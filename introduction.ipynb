{
  "nbformat": 4,
  "nbformat_minor": 0,
  "metadata": {
    "colab": {
      "name": "introduction.ipynb",
      "provenance": [],
      "authorship_tag": "ABX9TyPzqaFACObCUewvvzCTuyMz"
    },
    "kernelspec": {
      "name": "python3",
      "display_name": "Python 3"
    },
    "accelerator": "GPU"
  },
  "cells": [
    {
      "cell_type": "code",
      "metadata": {
        "id": "sVsYRJbTm-l0",
        "colab_type": "code",
        "colab": {}
      },
      "source": [
        "import tensorflow as tf\n",
        "from tensorflow import keras\n",
        "import matplotlib.patches as patches"
      ],
      "execution_count": 0,
      "outputs": []
    },
    {
      "cell_type": "code",
      "metadata": {
        "id": "vPi5qrGDnprm",
        "colab_type": "code",
        "outputId": "23554080-26dc-4e99-b0ac-680377ba8c6e",
        "colab": {
          "base_uri": "https://localhost:8080/",
          "height": 34
        }
      },
      "source": [
        "tf.__version__"
      ],
      "execution_count": 2,
      "outputs": [
        {
          "output_type": "execute_result",
          "data": {
            "text/plain": [
              "'2.2.0-rc2'"
            ]
          },
          "metadata": {
            "tags": []
          },
          "execution_count": 2
        }
      ]
    },
    {
      "cell_type": "code",
      "metadata": {
        "id": "xw4PRcIQnwJF",
        "colab_type": "code",
        "outputId": "1bb770d8-4a4e-42bc-8e07-0bef32077dd0",
        "colab": {
          "base_uri": "https://localhost:8080/",
          "height": 153
        }
      },
      "source": [
        "fashion_mnist = keras.datasets.fashion_mnist\n",
        "(X_train_full, y_train_full), (X_test, y_test) = fashion_mnist.load_data()"
      ],
      "execution_count": 4,
      "outputs": [
        {
          "output_type": "stream",
          "text": [
            "Downloading data from https://storage.googleapis.com/tensorflow/tf-keras-datasets/train-labels-idx1-ubyte.gz\n",
            "32768/29515 [=================================] - 0s 0us/step\n",
            "Downloading data from https://storage.googleapis.com/tensorflow/tf-keras-datasets/train-images-idx3-ubyte.gz\n",
            "26427392/26421880 [==============================] - 0s 0us/step\n",
            "Downloading data from https://storage.googleapis.com/tensorflow/tf-keras-datasets/t10k-labels-idx1-ubyte.gz\n",
            "8192/5148 [===============================================] - 0s 0us/step\n",
            "Downloading data from https://storage.googleapis.com/tensorflow/tf-keras-datasets/t10k-images-idx3-ubyte.gz\n",
            "4423680/4422102 [==============================] - 0s 0us/step\n"
          ],
          "name": "stdout"
        }
      ]
    },
    {
      "cell_type": "code",
      "metadata": {
        "id": "6oTK5waRoVIq",
        "colab_type": "code",
        "outputId": "4b69c519-b2cb-45f1-ec20-be0b1ce63c32",
        "colab": {
          "base_uri": "https://localhost:8080/",
          "height": 34
        }
      },
      "source": [
        "X_train_full.shape, X_train_full.dtype"
      ],
      "execution_count": 5,
      "outputs": [
        {
          "output_type": "execute_result",
          "data": {
            "text/plain": [
              "((60000, 28, 28), dtype('uint8'))"
            ]
          },
          "metadata": {
            "tags": []
          },
          "execution_count": 5
        }
      ]
    },
    {
      "cell_type": "code",
      "metadata": {
        "id": "h0RTqK-mogaj",
        "colab_type": "code",
        "colab": {}
      },
      "source": [
        "# divide train set to train and valid sets\n",
        "# standarize pixel intesities to range (0, 1)\n",
        "\n",
        "X_valid, X_train = X_train_full[:5000] / 255.0, X_train_full[5000:] / 255.0\n",
        "y_valid, y_train = y_train_full[:5000], y_train_full[5000:]"
      ],
      "execution_count": 0,
      "outputs": []
    },
    {
      "cell_type": "code",
      "metadata": {
        "id": "JlcxcMN5qEBq",
        "colab_type": "code",
        "colab": {}
      },
      "source": [
        "class_names = [\"T-shirt/top\", \"Trouser\", \"Pullover\", \"Dress\", \"Coat\", \"Sandal\", \"Shirt\", \"Sneaker\", \"Bag\", \"Ankle boot\"]"
      ],
      "execution_count": 0,
      "outputs": []
    },
    {
      "cell_type": "code",
      "metadata": {
        "id": "AORwriu7pLux",
        "colab_type": "code",
        "outputId": "30e5410b-cd72-40c0-bd77-a238256b1b50",
        "colab": {
          "base_uri": "https://localhost:8080/",
          "height": 298
        }
      },
      "source": [
        "import matplotlib.pyplot as plt\n",
        "\n",
        "idx = 42\n",
        "\n",
        "plt.imshow(X_train_full[idx], cmap='Greys')\n",
        "plt.title(class_names[y_train_full[idx]])"
      ],
      "execution_count": 8,
      "outputs": [
        {
          "output_type": "execute_result",
          "data": {
            "text/plain": [
              "Text(0.5, 1.0, 'Ankle boot')"
            ]
          },
          "metadata": {
            "tags": []
          },
          "execution_count": 8
        },
        {
          "output_type": "display_data",
          "data": {
            "image/png": "[encoded data removed]",
            "text/plain": [
              "<Figure size 432x288 with 1 Axes>"
            ]
          },
          "metadata": {
            "tags": []
          }
        }
      ]
    },
    {
      "cell_type": "code",
      "metadata": {
        "id": "k1WOX8XupW8B",
        "colab_type": "code",
        "outputId": "222460fb-05c0-4d42-f8d1-3a8da36964f1",
        "colab": {
          "base_uri": "https://localhost:8080/",
          "height": 289
        }
      },
      "source": [
        "# creating first tensor flow model\n",
        "\n",
        "model = keras.models.Sequential()\n",
        "model.add(keras.layers.Flatten(input_shape=[28, 28]))\n",
        "model.add(keras.layers.Dense(300, activation='relu'))\n",
        "model.add(keras.layers.Dense(100, activation='relu'))\n",
        "model.add(keras.layers.Dense(10, activation='softmax'))\n",
        "\n",
        "model.summary()"
      ],
      "execution_count": 9,
      "outputs": [
        {
          "output_type": "stream",
          "text": [
            "Model: \"sequential\"\n",
            "_________________________________________________________________\n",
            "Layer (type)                 Output Shape              Param #   \n",
            "=================================================================\n",
            "flatten (Flatten)            (None, 784)               0         \n",
            "_________________________________________________________________\n",
            "dense (Dense)                (None, 300)               235500    \n",
            "_________________________________________________________________\n",
            "dense_1 (Dense)              (None, 100)               30100     \n",
            "_________________________________________________________________\n",
            "dense_2 (Dense)              (None, 10)                1010      \n",
            "=================================================================\n",
            "Total params: 266,610\n",
            "Trainable params: 266,610\n",
            "Non-trainable params: 0\n",
            "_________________________________________________________________\n"
          ],
          "name": "stdout"
        }
      ]
    },
    {
      "cell_type": "code",
      "metadata": {
        "id": "g2H7J0Dtp5cg",
        "colab_type": "code",
        "outputId": "2338b007-8abb-469a-e779-ba3d3d75cf28",
        "colab": {
          "base_uri": "https://localhost:8080/",
          "height": 289
        }
      },
      "source": [
        "# alternative methods of implementing model\n",
        "\n",
        "model = keras.models.Sequential([\n",
        "                    keras.layers.Flatten(input_shape=[28, 28]),\n",
        "                    keras.layers.Dense(300, activation='relu'),\n",
        "                    keras.layers.Dense(100, activation='relu'),\n",
        "                    keras.layers.Dense(10, activation='softmax')         \n",
        "])\n",
        "\n",
        "model.summary()"
      ],
      "execution_count": 10,
      "outputs": [
        {
          "output_type": "stream",
          "text": [
            "Model: \"sequential_1\"\n",
            "_________________________________________________________________\n",
            "Layer (type)                 Output Shape              Param #   \n",
            "=================================================================\n",
            "flatten_1 (Flatten)          (None, 784)               0         \n",
            "_________________________________________________________________\n",
            "dense_3 (Dense)              (None, 300)               235500    \n",
            "_________________________________________________________________\n",
            "dense_4 (Dense)              (None, 100)               30100     \n",
            "_________________________________________________________________\n",
            "dense_5 (Dense)              (None, 10)                1010      \n",
            "=================================================================\n",
            "Total params: 266,610\n",
            "Trainable params: 266,610\n",
            "Non-trainable params: 0\n",
            "_________________________________________________________________\n"
          ],
          "name": "stdout"
        }
      ]
    },
    {
      "cell_type": "code",
      "metadata": {
        "id": "cAkTtG4WsK5K",
        "colab_type": "code",
        "outputId": "8785624f-0f64-4720-a0a2-a546766bfc9a",
        "colab": {
          "base_uri": "https://localhost:8080/",
          "height": 85
        }
      },
      "source": [
        "model.layers"
      ],
      "execution_count": 11,
      "outputs": [
        {
          "output_type": "execute_result",
          "data": {
            "text/plain": [
              "[<tensorflow.python.keras.layers.core.Flatten at 0x7f380aceaa20>,\n",
              " <tensorflow.python.keras.layers.core.Dense at 0x7f380acea908>,\n",
              " <tensorflow.python.keras.layers.core.Dense at 0x7f38001c9d30>,\n",
              " <tensorflow.python.keras.layers.core.Dense at 0x7f38001d2c88>]"
            ]
          },
          "metadata": {
            "tags": []
          },
          "execution_count": 11
        }
      ]
    },
    {
      "cell_type": "code",
      "metadata": {
        "id": "QUPiZMU6sQVB",
        "colab_type": "code",
        "outputId": "8077f01a-f2e1-4d95-e5a5-eb8b5e17362a",
        "colab": {
          "base_uri": "https://localhost:8080/",
          "height": 34
        }
      },
      "source": [
        "model.layers[1].name"
      ],
      "execution_count": 12,
      "outputs": [
        {
          "output_type": "execute_result",
          "data": {
            "text/plain": [
              "'dense_3'"
            ]
          },
          "metadata": {
            "tags": []
          },
          "execution_count": 12
        }
      ]
    },
    {
      "cell_type": "code",
      "metadata": {
        "id": "kaB-y71LsbuK",
        "colab_type": "code",
        "colab": {}
      },
      "source": [
        "model.compile(loss=\"sparse_categorical_crossentropy\", \n",
        "              optimizer=\"sgd\", \n",
        "              metrics=[\"accuracy\"])"
      ],
      "execution_count": 0,
      "outputs": []
    },
    {
      "cell_type": "code",
      "metadata": {
        "id": "R-I_okUOtWjb",
        "colab_type": "code",
        "outputId": "97642208-301e-417e-a415-8b0ecdf3c407",
        "colab": {
          "base_uri": "https://localhost:8080/",
          "height": 1000
        }
      },
      "source": [
        "history = model.fit(X_train, \n",
        "                    y_train, \n",
        "                    epochs=30, \n",
        "                    validation_data=(X_valid, y_valid)\n",
        "                    )"
      ],
      "execution_count": 15,
      "outputs": [
        {
          "output_type": "stream",
          "text": [
            "Epoch 1/30\n",
            "1719/1719 [==============================] - 3s 2ms/step - loss: 0.7073 - accuracy: 0.7682 - val_loss: 0.4924 - val_accuracy: 0.8366\n",
            "Epoch 2/30\n",
            "1719/1719 [==============================] - 3s 2ms/step - loss: 0.4838 - accuracy: 0.8328 - val_loss: 0.4872 - val_accuracy: 0.8226\n",
            "Epoch 3/30\n",
            "1719/1719 [==============================] - 3s 2ms/step - loss: 0.4377 - accuracy: 0.8471 - val_loss: 0.4634 - val_accuracy: 0.8356\n",
            "Epoch 4/30\n",
            "1719/1719 [==============================] - 3s 2ms/step - loss: 0.4111 - accuracy: 0.8546 - val_loss: 0.3865 - val_accuracy: 0.8656\n",
            "Epoch 5/30\n",
            "1719/1719 [==============================] - 3s 2ms/step - loss: 0.3921 - accuracy: 0.8615 - val_loss: 0.3927 - val_accuracy: 0.8598\n",
            "Epoch 6/30\n",
            "1719/1719 [==============================] - 3s 2ms/step - loss: 0.3753 - accuracy: 0.8679 - val_loss: 0.3931 - val_accuracy: 0.8602\n",
            "Epoch 7/30\n",
            "1719/1719 [==============================] - 3s 2ms/step - loss: 0.3616 - accuracy: 0.8724 - val_loss: 0.3593 - val_accuracy: 0.8722\n",
            "Epoch 8/30\n",
            "1719/1719 [==============================] - 3s 2ms/step - loss: 0.3506 - accuracy: 0.8759 - val_loss: 0.3683 - val_accuracy: 0.8726\n",
            "Epoch 9/30\n",
            "1719/1719 [==============================] - 3s 2ms/step - loss: 0.3401 - accuracy: 0.8804 - val_loss: 0.3557 - val_accuracy: 0.8756\n",
            "Epoch 10/30\n",
            "1719/1719 [==============================] - 3s 2ms/step - loss: 0.3305 - accuracy: 0.8829 - val_loss: 0.3553 - val_accuracy: 0.8742\n",
            "Epoch 11/30\n",
            "1719/1719 [==============================] - 3s 2ms/step - loss: 0.3221 - accuracy: 0.8854 - val_loss: 0.3417 - val_accuracy: 0.8784\n",
            "Epoch 12/30\n",
            "1719/1719 [==============================] - 3s 2ms/step - loss: 0.3133 - accuracy: 0.8880 - val_loss: 0.3301 - val_accuracy: 0.8830\n",
            "Epoch 13/30\n",
            "1719/1719 [==============================] - 3s 2ms/step - loss: 0.3068 - accuracy: 0.8901 - val_loss: 0.3291 - val_accuracy: 0.8802\n",
            "Epoch 14/30\n",
            "1719/1719 [==============================] - 3s 2ms/step - loss: 0.3002 - accuracy: 0.8931 - val_loss: 0.3244 - val_accuracy: 0.8842\n",
            "Epoch 15/30\n",
            "1719/1719 [==============================] - 3s 2ms/step - loss: 0.2930 - accuracy: 0.8945 - val_loss: 0.3243 - val_accuracy: 0.8862\n",
            "Epoch 16/30\n",
            "1719/1719 [==============================] - 3s 2ms/step - loss: 0.2872 - accuracy: 0.8958 - val_loss: 0.3132 - val_accuracy: 0.8876\n",
            "Epoch 17/30\n",
            "1719/1719 [==============================] - 3s 2ms/step - loss: 0.2825 - accuracy: 0.8975 - val_loss: 0.3095 - val_accuracy: 0.8874\n",
            "Epoch 18/30\n",
            "1719/1719 [==============================] - 3s 2ms/step - loss: 0.2761 - accuracy: 0.9007 - val_loss: 0.3148 - val_accuracy: 0.8830\n",
            "Epoch 19/30\n",
            "1719/1719 [==============================] - 3s 2ms/step - loss: 0.2710 - accuracy: 0.9029 - val_loss: 0.3024 - val_accuracy: 0.8948\n",
            "Epoch 20/30\n",
            "1719/1719 [==============================] - 3s 2ms/step - loss: 0.2658 - accuracy: 0.9042 - val_loss: 0.3058 - val_accuracy: 0.8916\n",
            "Epoch 21/30\n",
            "1719/1719 [==============================] - 3s 2ms/step - loss: 0.2601 - accuracy: 0.9062 - val_loss: 0.3056 - val_accuracy: 0.8916\n",
            "Epoch 22/30\n",
            "1719/1719 [==============================] - 3s 2ms/step - loss: 0.2564 - accuracy: 0.9075 - val_loss: 0.3132 - val_accuracy: 0.8898\n",
            "Epoch 23/30\n",
            "1719/1719 [==============================] - 3s 2ms/step - loss: 0.2520 - accuracy: 0.9086 - val_loss: 0.3192 - val_accuracy: 0.8854\n",
            "Epoch 24/30\n",
            "1719/1719 [==============================] - 3s 2ms/step - loss: 0.2480 - accuracy: 0.9099 - val_loss: 0.3010 - val_accuracy: 0.8932\n",
            "Epoch 25/30\n",
            "1719/1719 [==============================] - 3s 2ms/step - loss: 0.2427 - accuracy: 0.9114 - val_loss: 0.3028 - val_accuracy: 0.8908\n",
            "Epoch 26/30\n",
            "1719/1719 [==============================] - 3s 2ms/step - loss: 0.2390 - accuracy: 0.9140 - val_loss: 0.3023 - val_accuracy: 0.8910\n",
            "Epoch 27/30\n",
            "1719/1719 [==============================] - 3s 2ms/step - loss: 0.2353 - accuracy: 0.9156 - val_loss: 0.2992 - val_accuracy: 0.8896\n",
            "Epoch 28/30\n",
            "1719/1719 [==============================] - 3s 2ms/step - loss: 0.2302 - accuracy: 0.9181 - val_loss: 0.3012 - val_accuracy: 0.8910\n",
            "Epoch 29/30\n",
            "1719/1719 [==============================] - 3s 2ms/step - loss: 0.2272 - accuracy: 0.9194 - val_loss: 0.2945 - val_accuracy: 0.8936\n",
            "Epoch 30/30\n",
            "1719/1719 [==============================] - 3s 2ms/step - loss: 0.2239 - accuracy: 0.9203 - val_loss: 0.2958 - val_accuracy: 0.8934\n"
          ],
          "name": "stdout"
        }
      ]
    },
    {
      "cell_type": "code",
      "metadata": {
        "id": "Ecw6H_LztpRE",
        "colab_type": "code",
        "outputId": "d1039e38-d828-426a-d186-f46f94a7e9a1",
        "colab": {
          "base_uri": "https://localhost:8080/",
          "height": 324
        }
      },
      "source": [
        "import pandas as pd\n",
        "\n",
        "pd.DataFrame(history.history).plot(figsize=(8, 5))\n",
        "plt.grid(True)\n",
        "plt.gca().set_ylim(0, 1) # set the vertical range to [0-1]\n",
        "plt.show()\n"
      ],
      "execution_count": 16,
      "outputs": [
        {
          "output_type": "display_data",
          "data": {
            "image/png": "[encoded data removed]",
            "text/plain": [
              "<Figure size 576x360 with 1 Axes>"
            ]
          },
          "metadata": {
            "tags": []
          }
        }
      ]
    },
    {
      "cell_type": "code",
      "metadata": {
        "id": "cN0Bsy7DvLF0",
        "colab_type": "code",
        "outputId": "c12dc8e6-0ff6-4cdc-965b-a5567c7536a2",
        "colab": {
          "base_uri": "https://localhost:8080/",
          "height": 85
        }
      },
      "source": [
        "loss, accuracy = model.evaluate(X_test, y_test)\n",
        "print(f'loss: {loss}')\n",
        "print(f'accuracy: {accuracy}')"
      ],
      "execution_count": 17,
      "outputs": [
        {
          "output_type": "stream",
          "text": [
            "ERROR! Session/line number was not unique in database. History logging moved to new session 59\n",
            "313/313 [==============================] - 1s 2ms/step - loss: 78.2921 - accuracy: 0.8296\n",
            "loss: 78.29206085205078\n",
            "accuracy: 0.8295999765396118\n"
          ],
          "name": "stdout"
        }
      ]
    },
    {
      "cell_type": "code",
      "metadata": {
        "id": "EZbJjnhevTgx",
        "colab_type": "code",
        "colab": {
          "base_uri": "https://localhost:8080/",
          "height": 296
        },
        "outputId": "fe188975-295b-4537-8abb-c6bd491e0711"
      },
      "source": [
        "X_new = X_test[:3]\n",
        "y_new = y_test[:3]\n",
        "\n",
        "y_pred = [class_names[prediction] for prediction in model.predict_classes(X_new)]\n",
        "print(y_pred)\n",
        "\n",
        "fig, axes = plt.subplots(nrows=1, ncols=3, figsize=(10, 15))\n",
        "\n",
        "for idx, ax in enumerate(axes):\n",
        "    ax.imshow(X_new[idx], cmap='Greys')\n",
        "    ax.set_title(class_names[y_new[idx]])\n",
        "    color = 'g' if y_pred[idx] == class_names[y_new[idx]] else 'r'\n",
        "    rect = patches.Rectangle((0, 0), 27, 27, linewidth=3, edgecolor=color, facecolor='none')\n",
        "    \n",
        "    ax.add_patch(rect)\n",
        "\n"
      ],
      "execution_count": 50,
      "outputs": [
        {
          "output_type": "stream",
          "text": [
            "['Ankle boot', 'Pullover', 'Trouser']\n",
            "Ankle boot Ankle boot\n",
            "Pullover Pullover\n",
            "Trouser Trouser\n"
          ],
          "name": "stdout"
        },
        {
          "output_type": "display_data",
          "data": {
            "image/png": "[encoded data removed]",
            "text/plain": [
              "<Figure size 720x1080 with 3 Axes>"
            ]
          },
          "metadata": {
            "tags": []
          }
        }
      ]
    },
    {
      "cell_type": "code",
      "metadata": {
        "id": "E7t6zhIoro_r",
        "colab_type": "code",
        "colab": {}
      },
      "source": [
        ""
      ],
      "execution_count": 0,
      "outputs": []
    }
  ]
}